{
 "cells": [
  {
   "cell_type": "code",
   "execution_count": 1,
   "id": "96c9335a",
   "metadata": {},
   "outputs": [
    {
     "name": "stdout",
     "output_type": "stream",
     "text": [
      "My Name is Karan\n"
     ]
    }
   ],
   "source": [
    "print(\"My Name is Karan\")"
   ]
  },
  {
   "cell_type": "code",
   "execution_count": 5,
   "id": "99ed500b",
   "metadata": {},
   "outputs": [
    {
     "name": "stdout",
     "output_type": "stream",
     "text": [
      "Hello Karan\n"
     ]
    }
   ],
   "source": [
    "x=\"Karan\"\n",
    "print(\"Hello \"+ x)"
   ]
  },
  {
   "cell_type": "code",
   "execution_count": 6,
   "id": "13dfef95",
   "metadata": {},
   "outputs": [
    {
     "name": "stdout",
     "output_type": "stream",
     "text": [
      "Karan\n"
     ]
    }
   ],
   "source": [
    "print(x)"
   ]
  },
  {
   "cell_type": "code",
   "execution_count": 7,
   "id": "71b894ea",
   "metadata": {},
   "outputs": [
    {
     "name": "stdout",
     "output_type": "stream",
     "text": [
      "Enter Your Name\n",
      "Karan\n",
      "Hello, Karan\n"
     ]
    }
   ],
   "source": [
    "print(\"Enter Your Name\")\n",
    "x=input()\n",
    "print(\"Hello, \"+ x)"
   ]
  },
  {
   "cell_type": "code",
   "execution_count": 11,
   "id": "d8999f20",
   "metadata": {},
   "outputs": [
    {
     "name": "stdout",
     "output_type": "stream",
     "text": [
      "What is your full name?\n",
      "Karan Rhuggernaath\n",
      "Your full name is Karan Rhuggernaath\n"
     ]
    }
   ],
   "source": [
    "print(\"What is your full name?\")\n",
    "x=input()\n",
    "print(\"Your full name is \"+ x)"
   ]
  },
  {
   "cell_type": "code",
   "execution_count": null,
   "id": "689bd31c",
   "metadata": {},
   "outputs": [],
   "source": [
    "x=input(\"Enter your name \")\n",
    "print(\"Hello, \"+ x)"
   ]
  },
  {
   "cell_type": "code",
   "execution_count": null,
   "id": "71b36d6c",
   "metadata": {},
   "outputs": [],
   "source": [
    "x=input(\"Name of the first person\")\n",
    "y=input(\"Name of the second person\")\n",
    "z=input(\"What is the relationship between these two\")\n",
    "print(x + \" and \" y + \" are \" z)\n",
    "\n"
   ]
  },
  {
   "cell_type": "code",
   "execution_count": 17,
   "id": "a87933eb",
   "metadata": {},
   "outputs": [
    {
     "ename": "SyntaxError",
     "evalue": "invalid syntax. Perhaps you forgot a comma? (1004942264.py, line 4)",
     "output_type": "error",
     "traceback": [
      "\u001b[0;36m  Cell \u001b[0;32mIn[17], line 4\u001b[0;36m\u001b[0m\n\u001b[0;31m    print(x + \" and \" y + \" are \" z)\u001b[0m\n\u001b[0m          ^\u001b[0m\n\u001b[0;31mSyntaxError\u001b[0m\u001b[0;31m:\u001b[0m invalid syntax. Perhaps you forgot a comma?\n"
     ]
    }
   ],
   "source": [
    "x = input(\"Name of the first person\")\n",
    "y = input(\"Name of the second person\")\n",
    "z = input(\"What is the relationship between these two\")\n",
    "print(x + \" and \" y + \" are \" z)"
   ]
  },
  {
   "cell_type": "code",
   "execution_count": 18,
   "id": "4f201957",
   "metadata": {},
   "outputs": [
    {
     "name": "stdout",
     "output_type": "stream",
     "text": [
      "Karan\n",
      "John\n",
      "Friends\n",
      "Karan andJohn are Friends\n"
     ]
    }
   ],
   "source": [
    "name1 = input()\n",
    "name2 = input()\n",
    "relationship = input()\n",
    "print(name1 + \" and \" + name2 + \" are \" + relationship)\n"
   ]
  },
  {
   "cell_type": "code",
   "execution_count": 20,
   "id": "0ddd8491",
   "metadata": {},
   "outputs": [
    {
     "name": "stdout",
     "output_type": "stream",
     "text": [
      "Name of the first person John\n",
      "Name of the second person Sarah\n",
      "What is the relationship between these two Friends\n",
      "John and Sarah are Friends\n"
     ]
    }
   ],
   "source": [
    "x = input(\"Name of the first person \")\n",
    "y = input(\"Name of the second person \")\n",
    "z = input(\"What is the relationship between these two \")\n",
    "print(x + \" and \" + y + \" are \" + z)"
   ]
  },
  {
   "cell_type": "code",
   "execution_count": null,
   "id": "0558a34d",
   "metadata": {},
   "outputs": [],
   "source": [
    "name1 = input(\"What is your name? \")\n",
    "job1 = input(\"What is your job \")\n",
    "print(\"\")"
   ]
  },
  {
   "cell_type": "code",
   "execution_count": 1,
   "id": "b6c066f2",
   "metadata": {},
   "outputs": [
    {
     "ename": "SyntaxError",
     "evalue": "unterminated string literal (detected at line 4) (1227943778.py, line 4)",
     "output_type": "error",
     "traceback": [
      "\u001b[0;36m  Cell \u001b[0;32mIn[1], line 4\u001b[0;36m\u001b[0m\n\u001b[0;31m    age2 = input(\"What is the age\u001b[0m\n\u001b[0m                 ^\u001b[0m\n\u001b[0;31mSyntaxError\u001b[0m\u001b[0;31m:\u001b[0m unterminated string literal (detected at line 4)\n"
     ]
    }
   ],
   "source": [
    "name1 = input(\"What is the name of the first person? \")\n",
    "age1 = input(\"What is the age of the first person? \")\n",
    "name2 = input(\"What is the name of the second person? \")\n",
    "age2 = input(\"What is the age of the second person? \") \n",
    "     \n",
    "print(name1 + \" is \" )\n"
   ]
  },
  {
   "cell_type": "code",
   "execution_count": null,
   "id": "1bf2a51f",
   "metadata": {},
   "outputs": [],
   "source": [
    "\n",
    "name1 = input(\"What is the name of the first person? \")\n",
    "age1 = input(\"What is the age of the first person? \")\n",
    "name2 = input(\"What is the name of the second person? \")\n",
    "age2 = input(\"What is the age of the second person? \") \n",
    "accumulated_age = a\n",
    "\n",
    "\n",
    "\n",
    "output = f\"{name1} is {age1} and {name2} is {age2} and the accumulated age is {accumulated_age}\"\n",
    "\n",
    "\n",
    "print(output)\n"
   ]
  },
  {
   "cell_type": "code",
   "execution_count": null,
   "id": "58816606",
   "metadata": {},
   "outputs": [],
   "source": [
    "name1 = input(\"What is the name of the first person? \")\n",
    "age1 = input(\"What is the age of the first person? \")\n",
    "name2 = input(\"What is the name of the second person? \")\n",
    "age2 = input(\"What is the age of the second person? \") \n",
    "accumulated_age = sum(age1 + age2)\n",
    "\n",
    "\n",
    "\n",
    "output = f\"{name1} is {age1} and {name2} is {age2} and the accumulated age is {accumulated_age}\"\n",
    "\n",
    "\n",
    "print(output)"
   ]
  },
  {
   "cell_type": "code",
   "execution_count": 5,
   "id": "4723ae00",
   "metadata": {},
   "outputs": [
    {
     "ename": "KeyboardInterrupt",
     "evalue": "Interrupted by user",
     "output_type": "error",
     "traceback": [
      "\u001b[0;31m---------------------------------------------------------------------------\u001b[0m",
      "\u001b[0;31mKeyboardInterrupt\u001b[0m                         Traceback (most recent call last)",
      "Cell \u001b[0;32mIn[5], line 1\u001b[0m\n\u001b[0;32m----> 1\u001b[0m name1 \u001b[38;5;241m=\u001b[39m \u001b[38;5;28;43minput\u001b[39;49m\u001b[43m(\u001b[49m\u001b[38;5;124;43m\"\u001b[39;49m\u001b[38;5;124;43mWhat is the name of the first person? \u001b[39;49m\u001b[38;5;124;43m\"\u001b[39;49m\u001b[43m)\u001b[49m\n\u001b[1;32m      2\u001b[0m age1 \u001b[38;5;241m=\u001b[39m \u001b[38;5;28minput\u001b[39m(\u001b[38;5;124m\"\u001b[39m\u001b[38;5;124mWhat is the age of the first person? \u001b[39m\u001b[38;5;124m\"\u001b[39m)\n\u001b[1;32m      3\u001b[0m name2 \u001b[38;5;241m=\u001b[39m \u001b[38;5;28minput\u001b[39m(\u001b[38;5;124m\"\u001b[39m\u001b[38;5;124mWhat is the name of the second person? \u001b[39m\u001b[38;5;124m\"\u001b[39m)\n",
      "File \u001b[0;32m~/anaconda3/lib/python3.10/site-packages/ipykernel/kernelbase.py:1175\u001b[0m, in \u001b[0;36mKernel.raw_input\u001b[0;34m(self, prompt)\u001b[0m\n\u001b[1;32m   1171\u001b[0m \u001b[38;5;28;01mif\u001b[39;00m \u001b[38;5;129;01mnot\u001b[39;00m \u001b[38;5;28mself\u001b[39m\u001b[38;5;241m.\u001b[39m_allow_stdin:\n\u001b[1;32m   1172\u001b[0m     \u001b[38;5;28;01mraise\u001b[39;00m StdinNotImplementedError(\n\u001b[1;32m   1173\u001b[0m         \u001b[38;5;124m\"\u001b[39m\u001b[38;5;124mraw_input was called, but this frontend does not support input requests.\u001b[39m\u001b[38;5;124m\"\u001b[39m\n\u001b[1;32m   1174\u001b[0m     )\n\u001b[0;32m-> 1175\u001b[0m \u001b[38;5;28;01mreturn\u001b[39;00m \u001b[38;5;28;43mself\u001b[39;49m\u001b[38;5;241;43m.\u001b[39;49m\u001b[43m_input_request\u001b[49m\u001b[43m(\u001b[49m\n\u001b[1;32m   1176\u001b[0m \u001b[43m    \u001b[49m\u001b[38;5;28;43mstr\u001b[39;49m\u001b[43m(\u001b[49m\u001b[43mprompt\u001b[49m\u001b[43m)\u001b[49m\u001b[43m,\u001b[49m\n\u001b[1;32m   1177\u001b[0m \u001b[43m    \u001b[49m\u001b[38;5;28;43mself\u001b[39;49m\u001b[38;5;241;43m.\u001b[39;49m\u001b[43m_parent_ident\u001b[49m\u001b[43m[\u001b[49m\u001b[38;5;124;43m\"\u001b[39;49m\u001b[38;5;124;43mshell\u001b[39;49m\u001b[38;5;124;43m\"\u001b[39;49m\u001b[43m]\u001b[49m\u001b[43m,\u001b[49m\n\u001b[1;32m   1178\u001b[0m \u001b[43m    \u001b[49m\u001b[38;5;28;43mself\u001b[39;49m\u001b[38;5;241;43m.\u001b[39;49m\u001b[43mget_parent\u001b[49m\u001b[43m(\u001b[49m\u001b[38;5;124;43m\"\u001b[39;49m\u001b[38;5;124;43mshell\u001b[39;49m\u001b[38;5;124;43m\"\u001b[39;49m\u001b[43m)\u001b[49m\u001b[43m,\u001b[49m\n\u001b[1;32m   1179\u001b[0m \u001b[43m    \u001b[49m\u001b[43mpassword\u001b[49m\u001b[38;5;241;43m=\u001b[39;49m\u001b[38;5;28;43;01mFalse\u001b[39;49;00m\u001b[43m,\u001b[49m\n\u001b[1;32m   1180\u001b[0m \u001b[43m\u001b[49m\u001b[43m)\u001b[49m\n",
      "File \u001b[0;32m~/anaconda3/lib/python3.10/site-packages/ipykernel/kernelbase.py:1217\u001b[0m, in \u001b[0;36mKernel._input_request\u001b[0;34m(self, prompt, ident, parent, password)\u001b[0m\n\u001b[1;32m   1214\u001b[0m             \u001b[38;5;28;01mbreak\u001b[39;00m\n\u001b[1;32m   1215\u001b[0m \u001b[38;5;28;01mexcept\u001b[39;00m \u001b[38;5;167;01mKeyboardInterrupt\u001b[39;00m:\n\u001b[1;32m   1216\u001b[0m     \u001b[38;5;66;03m# re-raise KeyboardInterrupt, to truncate traceback\u001b[39;00m\n\u001b[0;32m-> 1217\u001b[0m     \u001b[38;5;28;01mraise\u001b[39;00m \u001b[38;5;167;01mKeyboardInterrupt\u001b[39;00m(\u001b[38;5;124m\"\u001b[39m\u001b[38;5;124mInterrupted by user\u001b[39m\u001b[38;5;124m\"\u001b[39m) \u001b[38;5;28;01mfrom\u001b[39;00m \u001b[38;5;28mNone\u001b[39m\n\u001b[1;32m   1218\u001b[0m \u001b[38;5;28;01mexcept\u001b[39;00m \u001b[38;5;167;01mException\u001b[39;00m:\n\u001b[1;32m   1219\u001b[0m     \u001b[38;5;28mself\u001b[39m\u001b[38;5;241m.\u001b[39mlog\u001b[38;5;241m.\u001b[39mwarning(\u001b[38;5;124m\"\u001b[39m\u001b[38;5;124mInvalid Message:\u001b[39m\u001b[38;5;124m\"\u001b[39m, exc_info\u001b[38;5;241m=\u001b[39m\u001b[38;5;28;01mTrue\u001b[39;00m)\n",
      "\u001b[0;31mKeyboardInterrupt\u001b[0m: Interrupted by user"
     ]
    }
   ],
   "source": [
    "name1 = input(\"What is the name of the first person? \")\n",
    "age1 = input(\"What is the age of the first person? \")\n",
    "name2 = input(\"What is the name of the second person? \")\n",
    "age2 = input(\"What is the age of the second person? \") \n",
    "accumulated_age = sum(age1 + age2)"
   ]
  },
  {
   "cell_type": "code",
   "execution_count": 6,
   "id": "75033965",
   "metadata": {},
   "outputs": [
    {
     "name": "stdout",
     "output_type": "stream",
     "text": [
      "What is the name of the first person? John\n",
      "How old is John? 22\n",
      "What is the name of the second person? Sarah\n",
      "How old is Sarah? 11\n",
      "John is 22 years old\n",
      "Sarah is 11 years old\n",
      "The accumulated age of John and Sarah together is 33 years old\n"
     ]
    }
   ],
   "source": [
    "# Input names and ages\n",
    "name1 = input(\"What is the name of the first person? \")\n",
    "age1 = int(input(f\"How old is {name1}? \"))\n",
    "name2 = input(\"What is the name of the second person? \")\n",
    "age2 = int(input(f\"How old is {name2}? \"))\n",
    "\n",
    "# Calculate the accumulated age\n",
    "accumulated_age = age1 + age2\n",
    "\n",
    "# Format the output string\n",
    "output = f\"{name1} is {age1} years old\\n{name2} is {age2} years old\\nThe accumulated age of {name1} and {name2} together is {accumulated_age} years old\"\n",
    "\n",
    "# Print the output\n",
    "print(output)\n",
    "\n"
   ]
  },
  {
   "cell_type": "code",
   "execution_count": 7,
   "id": "43876b7c",
   "metadata": {},
   "outputs": [
    {
     "name": "stdout",
     "output_type": "stream",
     "text": [
      "What is the name of the first person? Terry\n",
      "How old is Terry? 66\n",
      "What is the name of the second person? Joe\n",
      "How old is Joe? 23\n",
      "Terry is 66 years old\n",
      "Joe is 23 years old\n",
      "The accumulated age of Terry and Joe together is 89 years old\n"
     ]
    }
   ],
   "source": [
    "\n",
    "name1 = input(\"What is the name of the first person? \")\n",
    "age1 = int(input(f\"How old is {name1}? \"))\n",
    "name2 = input(\"What is the name of the second person? \")\n",
    "age2 = int(input(f\"How old is {name2}? \"))\n",
    "\n",
    "\n",
    "accumulated_age = age1 + age2\n",
    "\n",
    "\n",
    "output = f\"{name1} is {age1} years old\\n{name2} is {age2} years old\\nThe accumulated age of {name1} and {name2} together is {accumulated_age} years old\"\n",
    "\n",
    "\n",
    "print(output)"
   ]
  },
  {
   "cell_type": "code",
   "execution_count": 8,
   "id": "a486a5b8",
   "metadata": {},
   "outputs": [
    {
     "name": "stdout",
     "output_type": "stream",
     "text": [
      "What is the name of the first person? Sarah\n",
      "How old is Sarah? 22\n",
      "What is the name of the second person? Joe\n",
      "How old is Joe? 34\n",
      "Sarah is 22 years old\n",
      "Joe is 34 years old\n",
      "The accumulated age of Sarah and Joe together is 56 years old\n"
     ]
    }
   ],
   "source": [
    "name1 = input(\"What is the name of the first person? \")\n",
    "age1 = int(input(f\"How old is {name1}? \"))\n",
    "name2 = input(\"What is the name of the second person? \")\n",
    "age2 = int(input(f\"How old is {name2}? \"))\n",
    "\n",
    "\n",
    "accumulated_age = age1 + age2\n",
    "\n",
    "\n",
    "output = f\"{name1} is {age1} years old\\n{name2} is {age2} years old\\nThe accumulated age of {name1} and {name2} together is {accumulated_age} years old\"\n",
    "\n",
    "\n",
    "print(output)\n"
   ]
  },
  {
   "cell_type": "code",
   "execution_count": 13,
   "id": "aa9a2c0b",
   "metadata": {},
   "outputs": [
    {
     "name": "stdout",
     "output_type": "stream",
     "text": [
      "What is your Name? Peter\n",
      "What is your Age? 29\n",
      "Name: Peter, Age: 29\n"
     ]
    }
   ],
   "source": [
    "name1 = input(\"What is your Name? \")\n",
    "age1 = input(\"What is your Age? \")\n",
    "\n",
    "print(\"Name: \" + name1 + \", Age: \" + age1)"
   ]
  },
  {
   "cell_type": "code",
   "execution_count": 17,
   "id": "9b25dfa6",
   "metadata": {},
   "outputs": [
    {
     "name": "stdout",
     "output_type": "stream",
     "text": [
      "What is the name of the first person? Joe\n",
      "How old is Joe? 22\n",
      "What is the name of the second person? joey\n",
      "How old is joey? 21\n",
      "Joe is 22 years old \n",
      "joey is 21 years old \n",
      "The accumulated age of Joe and joey together is 43 years old\n"
     ]
    }
   ],
   "source": [
    "name1 = input(\"What is the name of the first person? \")\n",
    "age1 = int(input(f\"How old is {name1}? \"))\n",
    "name2 = input(\"What is the name of the second person? \")\n",
    "age2 = int(input(f\"How old is {name2}? \"))\n",
    "\n",
    "\n",
    "accumulated_age = age1 + age2\n",
    "\n",
    "\n",
    "output = f\"{name1} is {age1} years old \\n{name2} is {age2} years old \\nThe accumulated age of {name1} and {name2} together is {accumulated_age} years old\"\n",
    "\n",
    "\n",
    "print(output)\n"
   ]
  },
  {
   "cell_type": "code",
   "execution_count": 18,
   "id": "570c93d7",
   "metadata": {},
   "outputs": [
    {
     "name": "stdout",
     "output_type": "stream",
     "text": [
      "10 is greater than 3\n"
     ]
    }
   ],
   "source": [
    "if 10>3:\n",
    "    print(\"10 is greater than 3\")"
   ]
  },
  {
   "cell_type": "code",
   "execution_count": 22,
   "id": "2e4b090a",
   "metadata": {},
   "outputs": [
    {
     "data": {
      "text/plain": [
       "'\\nI want to have lines\\nof notes\\n'"
      ]
     },
     "execution_count": 22,
     "metadata": {},
     "output_type": "execute_result"
    }
   ],
   "source": [
    "#hello world\n",
    "\"\"\"\n",
    "I want to have lines\n",
    "of notes\n",
    "\"\"\""
   ]
  },
  {
   "cell_type": "code",
   "execution_count": 23,
   "id": "e3b03f68",
   "metadata": {},
   "outputs": [
    {
     "name": "stdout",
     "output_type": "stream",
     "text": [
      "5\n",
      "Sara\n",
      "<class 'int'>\n",
      "<class 'str'>\n"
     ]
    }
   ],
   "source": [
    "x=5\n",
    "y=\"Sara\"\n",
    "print(x)\n",
    "print(y)\n",
    "print(type(x))\n",
    "print(type(y))"
   ]
  },
  {
   "cell_type": "code",
   "execution_count": 24,
   "id": "70bad586",
   "metadata": {},
   "outputs": [
    {
     "name": "stdout",
     "output_type": "stream",
     "text": [
      "What is your name? Karan\n",
      "Karan\n",
      "<class 'str'>\n"
     ]
    }
   ],
   "source": [
    "x = input(\"What is your name? \")\n",
    "print(x)\n",
    "print(type(x))\n"
   ]
  },
  {
   "cell_type": "code",
   "execution_count": 25,
   "id": "ed1726c2",
   "metadata": {},
   "outputs": [
    {
     "name": "stdout",
     "output_type": "stream",
     "text": [
      "What is your name?Karan\n"
     ]
    },
    {
     "ename": "ValueError",
     "evalue": "invalid literal for int() with base 10: 'Karan'",
     "output_type": "error",
     "traceback": [
      "\u001b[0;31m---------------------------------------------------------------------------\u001b[0m",
      "\u001b[0;31mValueError\u001b[0m                                Traceback (most recent call last)",
      "Cell \u001b[0;32mIn[25], line 1\u001b[0m\n\u001b[0;32m----> 1\u001b[0m x \u001b[38;5;241m=\u001b[39m \u001b[38;5;28;43mint\u001b[39;49m\u001b[43m(\u001b[49m\u001b[38;5;28;43minput\u001b[39;49m\u001b[43m(\u001b[49m\u001b[38;5;124;43m\"\u001b[39;49m\u001b[38;5;124;43mWhat is your name?\u001b[39;49m\u001b[38;5;124;43m\"\u001b[39;49m\u001b[43m)\u001b[49m\u001b[43m)\u001b[49m\n\u001b[1;32m      2\u001b[0m \u001b[38;5;28mprint\u001b[39m(x)\n\u001b[1;32m      3\u001b[0m \u001b[38;5;28mprint\u001b[39m(\u001b[38;5;28mtype\u001b[39m(x))\n",
      "\u001b[0;31mValueError\u001b[0m: invalid literal for int() with base 10: 'Karan'"
     ]
    }
   ],
   "source": [
    "x = int(input(\"What is your name?\"))\n",
    "print(x)\n",
    "print(type(x))"
   ]
  },
  {
   "cell_type": "code",
   "execution_count": 27,
   "id": "342831a9",
   "metadata": {},
   "outputs": [
    {
     "name": "stdout",
     "output_type": "stream",
     "text": [
      "What is your age? 21\n",
      "21\n",
      "<class 'int'>\n"
     ]
    }
   ],
   "source": [
    "x = int(input(\"What is your age? \"))\n",
    "print(x)\n",
    "print(type(x))"
   ]
  },
  {
   "cell_type": "code",
   "execution_count": 30,
   "id": "63ca6c0c",
   "metadata": {},
   "outputs": [
    {
     "name": "stdout",
     "output_type": "stream",
     "text": [
      "blue\n",
      "blue\n",
      "blue\n"
     ]
    }
   ],
   "source": [
    "x= y= z=\"blue\"\n",
    "print(x)\n",
    "print(y)\n",
    "print(z)\n"
   ]
  },
  {
   "cell_type": "code",
   "execution_count": 32,
   "id": "c6628021",
   "metadata": {},
   "outputs": [
    {
     "name": "stdout",
     "output_type": "stream",
     "text": [
      "orange\n",
      "blue\n",
      "red\n"
     ]
    }
   ],
   "source": [
    "x, y, z=\"orange\", \"blue\", \"red\"\n",
    "print(x)\n",
    "print(y)\n",
    "print(z)"
   ]
  },
  {
   "cell_type": "code",
   "execution_count": 36,
   "id": "0c80b3d9",
   "metadata": {},
   "outputs": [
    {
     "name": "stdout",
     "output_type": "stream",
     "text": [
      "<class 'list'>\n",
      "cherry\n"
     ]
    }
   ],
   "source": [
    "fruits=[\"apple\", \"melon\", \"cherry\"]\n",
    "print(type(fruits))\n",
    "x,y,z=fruits\n",
    "print(z)"
   ]
  },
  {
   "cell_type": "code",
   "execution_count": 37,
   "id": "46a1bfbc",
   "metadata": {},
   "outputs": [
    {
     "name": "stdout",
     "output_type": "stream",
     "text": [
      "<class 'str'>\n"
     ]
    }
   ],
   "source": [
    "print(type(z))"
   ]
  },
  {
   "cell_type": "code",
   "execution_count": 38,
   "id": "11371666",
   "metadata": {},
   "outputs": [],
   "source": [
    "x=5"
   ]
  },
  {
   "cell_type": "code",
   "execution_count": 40,
   "id": "6e06bb6b",
   "metadata": {},
   "outputs": [
    {
     "name": "stdout",
     "output_type": "stream",
     "text": [
      "5 John\n"
     ]
    }
   ],
   "source": [
    "x=5\n",
    "y=\"John\"\n",
    "print(x, y)"
   ]
  },
  {
   "cell_type": "code",
   "execution_count": 41,
   "id": "2ab7a524",
   "metadata": {},
   "outputs": [
    {
     "name": "stdout",
     "output_type": "stream",
     "text": [
      "<class 'int'>\n"
     ]
    }
   ],
   "source": [
    "print(type(x))"
   ]
  },
  {
   "cell_type": "code",
   "execution_count": 42,
   "id": "f3ba4d6c",
   "metadata": {},
   "outputs": [
    {
     "name": "stdout",
     "output_type": "stream",
     "text": [
      "<class 'str'>\n"
     ]
    }
   ],
   "source": [
    "print(type(y))"
   ]
  },
  {
   "cell_type": "code",
   "execution_count": 43,
   "id": "1fbac0fe",
   "metadata": {},
   "outputs": [
    {
     "name": "stdout",
     "output_type": "stream",
     "text": [
      "<class 'float'>\n"
     ]
    }
   ],
   "source": [
    "x=20.5\n",
    "print(type(x))"
   ]
  },
  {
   "cell_type": "code",
   "execution_count": 44,
   "id": "866c6846",
   "metadata": {},
   "outputs": [
    {
     "name": "stdout",
     "output_type": "stream",
     "text": [
      "<class 'str'>\n"
     ]
    }
   ],
   "source": [
    "x=\"20.5\"\n",
    "print(type(x))"
   ]
  },
  {
   "cell_type": "code",
   "execution_count": 45,
   "id": "23b543c6",
   "metadata": {},
   "outputs": [
    {
     "name": "stdout",
     "output_type": "stream",
     "text": [
      "<class 'list'>\n"
     ]
    }
   ],
   "source": [
    "x=[2,3,5]\n",
    "print(type(x))"
   ]
  },
  {
   "cell_type": "code",
   "execution_count": 46,
   "id": "a91567b3",
   "metadata": {},
   "outputs": [
    {
     "name": "stdout",
     "output_type": "stream",
     "text": [
      "<class 'dict'>\n"
     ]
    }
   ],
   "source": [
    "x={\"name\":\"Sarah\",\"age\":23}\n",
    "print(type(x))"
   ]
  },
  {
   "cell_type": "code",
   "execution_count": 47,
   "id": "1b833357",
   "metadata": {},
   "outputs": [
    {
     "name": "stdout",
     "output_type": "stream",
     "text": [
      "{'name': 'john', 'age': 25, 'purch': [25, 30, 88, 95]}\n"
     ]
    }
   ],
   "source": [
    "x={\"name\": \"john\",\"age\":25,\"purch\":[25,30,88,95]}\n",
    "print(x)"
   ]
  },
  {
   "cell_type": "code",
   "execution_count": 48,
   "id": "50356079",
   "metadata": {},
   "outputs": [
    {
     "name": "stdout",
     "output_type": "stream",
     "text": [
      "<class 'bool'>\n"
     ]
    }
   ],
   "source": [
    "x=True\n",
    "print(type(x))"
   ]
  },
  {
   "cell_type": "code",
   "execution_count": 49,
   "id": "da2cf02b",
   "metadata": {},
   "outputs": [],
   "source": [
    "import random\n"
   ]
  },
  {
   "cell_type": "code",
   "execution_count": 62,
   "id": "02571d2d",
   "metadata": {},
   "outputs": [
    {
     "name": "stdout",
     "output_type": "stream",
     "text": [
      "139455\n"
     ]
    }
   ],
   "source": [
    "print(random.randrange(1,1000000))"
   ]
  },
  {
   "cell_type": "code",
   "execution_count": 64,
   "id": "e58d982d",
   "metadata": {},
   "outputs": [
    {
     "name": "stdout",
     "output_type": "stream",
     "text": [
      "This is some text. We are in data analytics class\n"
     ]
    }
   ],
   "source": [
    "text=\"This is some text. We are in data analytics class\"\n",
    "print(text)"
   ]
  },
  {
   "cell_type": "code",
   "execution_count": 65,
   "id": "b64b28cf",
   "metadata": {},
   "outputs": [
    {
     "name": "stdout",
     "output_type": "stream",
     "text": [
      "<class 'str'>\n"
     ]
    }
   ],
   "source": [
    "print(type(text))"
   ]
  },
  {
   "cell_type": "code",
   "execution_count": 67,
   "id": "cdb383a9",
   "metadata": {},
   "outputs": [
    {
     "name": "stdout",
     "output_type": "stream",
     "text": [
      "h\n"
     ]
    }
   ],
   "source": [
    "print(text[1])"
   ]
  },
  {
   "cell_type": "code",
   "execution_count": 68,
   "id": "56aff557",
   "metadata": {},
   "outputs": [
    {
     "name": "stdout",
     "output_type": "stream",
     "text": [
      "T\n",
      "h\n",
      "i\n",
      "s\n",
      " \n",
      "i\n",
      "s\n",
      " \n",
      "s\n",
      "o\n",
      "m\n",
      "e\n",
      " \n",
      "t\n",
      "e\n",
      "x\n",
      "t\n",
      ".\n",
      " \n",
      "W\n",
      "e\n",
      " \n",
      "a\n",
      "r\n",
      "e\n",
      " \n",
      "i\n",
      "n\n",
      " \n",
      "d\n",
      "a\n",
      "t\n",
      "a\n",
      " \n",
      "a\n",
      "n\n",
      "a\n",
      "l\n",
      "y\n",
      "t\n",
      "i\n",
      "c\n",
      "s\n",
      " \n",
      "c\n",
      "l\n",
      "a\n",
      "s\n",
      "s\n"
     ]
    }
   ],
   "source": [
    "for letter in text:\n",
    "    print(letter)"
   ]
  },
  {
   "cell_type": "code",
   "execution_count": 77,
   "id": "0e292732",
   "metadata": {},
   "outputs": [
    {
     "name": "stdout",
     "output_type": "stream",
     "text": [
      "No, it is not here\n"
     ]
    }
   ],
   "source": [
    "text=\"my name is John\"\n",
    "\n",
    "if \"joe\" in text:\n",
    "    print(\"Yes it is\")\n",
    "    \n",
    "else:\n",
    "        print(\"No, it is not here\")"
   ]
  },
  {
   "cell_type": "code",
   "execution_count": 82,
   "id": "f3897b32",
   "metadata": {},
   "outputs": [
    {
     "name": "stdout",
     "output_type": "stream",
     "text": [
      "name\n"
     ]
    }
   ],
   "source": [
    "print(text[3:7])"
   ]
  },
  {
   "cell_type": "code",
   "execution_count": 88,
   "id": "fb71b9c3",
   "metadata": {},
   "outputs": [
    {
     "name": "stdout",
     "output_type": "stream",
     "text": [
      "n\n"
     ]
    }
   ],
   "source": [
    "print(text[-1])"
   ]
  },
  {
   "cell_type": "code",
   "execution_count": 1,
   "id": "3ec21931",
   "metadata": {},
   "outputs": [
    {
     "name": "stdout",
     "output_type": "stream",
     "text": [
      "Enter a sentence: Hello my name is karan\n",
      "['H', 'm', 'n', 'i', 'k']\n"
     ]
    }
   ],
   "source": [
    "sentence = input(\"Enter a sentence: \")  # Prompt the user to enter a sentence\n",
    "\n",
    "words = sentence.split()  # Split the sentence into a list of words\n",
    "first_letters = [word[0] for word in words]  # Extract the first letter of each word\n",
    "\n",
    "print(first_letters)  # Print the list of first letters\n",
    "\n"
   ]
  },
  {
   "cell_type": "code",
   "execution_count": null,
   "id": "a4cbc90a",
   "metadata": {},
   "outputs": [],
   "source": [
    "sentence = input(\"Enter a sentence: \")  \n",
    "\n",
    "words = sentence.split()  \n",
    "first_letters = [word[0] for word in words]  \n",
    "\n",
    "print(first_letters)  \n"
   ]
  }
 ],
 "metadata": {
  "kernelspec": {
   "display_name": "Python 3 (ipykernel)",
   "language": "python",
   "name": "python3"
  },
  "language_info": {
   "codemirror_mode": {
    "name": "ipython",
    "version": 3
   },
   "file_extension": ".py",
   "mimetype": "text/x-python",
   "name": "python",
   "nbconvert_exporter": "python",
   "pygments_lexer": "ipython3",
   "version": "3.10.9"
  }
 },
 "nbformat": 4,
 "nbformat_minor": 5
}

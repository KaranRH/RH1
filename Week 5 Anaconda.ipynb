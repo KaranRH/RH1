{
 "cells": [
  {
   "cell_type": "code",
   "execution_count": 4,
   "id": "52ca0f7a",
   "metadata": {},
   "outputs": [
    {
     "name": "stdout",
     "output_type": "stream",
     "text": [
      "      Unnamed: 0       Entity Code  Year  Cellular Subscription  \\\n",
      "0              0  Afghanistan  AFG  1980               0.000000   \n",
      "1              1  Afghanistan  AFG  1981               0.000000   \n",
      "2              2  Afghanistan  AFG  1982               0.000000   \n",
      "3              3  Afghanistan  AFG  1983               0.000000   \n",
      "4              4  Afghanistan  AFG  1984               0.000000   \n",
      "...          ...          ...  ...   ...                    ...   \n",
      "8862        8862     Zimbabwe  ZWE  2016              91.793457   \n",
      "8863        8863     Zimbabwe  ZWE  2017              98.985077   \n",
      "8864        8864     Zimbabwe  ZWE  2018              89.404869   \n",
      "8865        8865     Zimbabwe  ZWE  2019              90.102287   \n",
      "8866        8866     Zimbabwe  ZWE  2020              88.755806   \n",
      "\n",
      "      Internet Users(%)  No. of Internet Users  Broadband Subscription  \n",
      "0              0.000000                      0                0.000000  \n",
      "1              0.000000                      0                0.000000  \n",
      "2              0.000000                      0                0.000000  \n",
      "3              0.000000                      0                0.000000  \n",
      "4              0.000000                      0                0.000000  \n",
      "...                 ...                    ...                     ...  \n",
      "8862          23.119989                3341464                1.217633  \n",
      "8863          24.400000                3599269                1.315694  \n",
      "8864          25.000000                3763048                1.406322  \n",
      "8865          25.100000                3854006                1.395818  \n",
      "8866          29.299999                4591211                1.368916  \n",
      "\n",
      "[8867 rows x 8 columns]\n"
     ]
    }
   ],
   "source": [
    "import pandas as pd\n",
    "df = pd.read_csv('Final.csv')\n",
    "print(df)"
   ]
  },
  {
   "cell_type": "code",
   "execution_count": 3,
   "id": "137f2360",
   "metadata": {},
   "outputs": [
    {
     "name": "stdout",
     "output_type": "stream",
     "text": [
      "<class 'pandas.core.frame.DataFrame'>\n",
      "RangeIndex: 8867 entries, 0 to 8866\n",
      "Data columns (total 8 columns):\n",
      " #   Column                  Non-Null Count  Dtype  \n",
      "---  ------                  --------------  -----  \n",
      " 0   Unnamed: 0              8867 non-null   int64  \n",
      " 1   Entity                  8867 non-null   object \n",
      " 2   Code                    8867 non-null   object \n",
      " 3   Year                    8867 non-null   int64  \n",
      " 4   Cellular Subscription   8867 non-null   float64\n",
      " 5   Internet Users(%)       8867 non-null   float64\n",
      " 6   No. of Internet Users   8867 non-null   int64  \n",
      " 7   Broadband Subscription  8867 non-null   float64\n",
      "dtypes: float64(3), int64(3), object(2)\n",
      "memory usage: 554.3+ KB\n",
      "None\n"
     ]
    }
   ],
   "source": [
    "print(dataset.info())"
   ]
  },
  {
   "cell_type": "code",
   "execution_count": 5,
   "id": "f751f863",
   "metadata": {},
   "outputs": [
    {
     "name": "stdout",
     "output_type": "stream",
     "text": [
      "      Unnamed: 0       Entity Code  Year  Cellular Subscription  \\\n",
      "0              0  Afghanistan  AFG  1980               0.000000   \n",
      "1              1  Afghanistan  AFG  1981               0.000000   \n",
      "2              2  Afghanistan  AFG  1982               0.000000   \n",
      "3              3  Afghanistan  AFG  1983               0.000000   \n",
      "4              4  Afghanistan  AFG  1984               0.000000   \n",
      "...          ...          ...  ...   ...                    ...   \n",
      "8862        8862     Zimbabwe  ZWE  2016              91.793457   \n",
      "8863        8863     Zimbabwe  ZWE  2017              98.985077   \n",
      "8864        8864     Zimbabwe  ZWE  2018              89.404869   \n",
      "8865        8865     Zimbabwe  ZWE  2019              90.102287   \n",
      "8866        8866     Zimbabwe  ZWE  2020              88.755806   \n",
      "\n",
      "      Internet Users(%)  No. of Internet Users  Broadband Subscription  \n",
      "0              0.000000                      0                0.000000  \n",
      "1              0.000000                      0                0.000000  \n",
      "2              0.000000                      0                0.000000  \n",
      "3              0.000000                      0                0.000000  \n",
      "4              0.000000                      0                0.000000  \n",
      "...                 ...                    ...                     ...  \n",
      "8862          23.119989                3341464                1.217633  \n",
      "8863          24.400000                3599269                1.315694  \n",
      "8864          25.000000                3763048                1.406322  \n",
      "8865          25.100000                3854006                1.395818  \n",
      "8866          29.299999                4591211                1.368916  \n",
      "\n",
      "[8867 rows x 8 columns]\n"
     ]
    }
   ],
   "source": [
    "import pandas as pd\n",
    "df = pd.read_csv('Final.csv')\n",
    "print(df)"
   ]
  },
  {
   "cell_type": "code",
   "execution_count": 8,
   "id": "21ae0523",
   "metadata": {},
   "outputs": [
    {
     "ename": "KeyError",
     "evalue": "'Order Zipcode'",
     "output_type": "error",
     "traceback": [
      "\u001b[0;31m---------------------------------------------------------------------------\u001b[0m",
      "\u001b[0;31mKeyError\u001b[0m                                  Traceback (most recent call last)",
      "File \u001b[0;32m~/anaconda3/lib/python3.10/site-packages/pandas/core/indexes/base.py:3802\u001b[0m, in \u001b[0;36mIndex.get_loc\u001b[0;34m(self, key, method, tolerance)\u001b[0m\n\u001b[1;32m   3801\u001b[0m \u001b[38;5;28;01mtry\u001b[39;00m:\n\u001b[0;32m-> 3802\u001b[0m     \u001b[38;5;28;01mreturn\u001b[39;00m \u001b[38;5;28;43mself\u001b[39;49m\u001b[38;5;241;43m.\u001b[39;49m\u001b[43m_engine\u001b[49m\u001b[38;5;241;43m.\u001b[39;49m\u001b[43mget_loc\u001b[49m\u001b[43m(\u001b[49m\u001b[43mcasted_key\u001b[49m\u001b[43m)\u001b[49m\n\u001b[1;32m   3803\u001b[0m \u001b[38;5;28;01mexcept\u001b[39;00m \u001b[38;5;167;01mKeyError\u001b[39;00m \u001b[38;5;28;01mas\u001b[39;00m err:\n",
      "File \u001b[0;32m~/anaconda3/lib/python3.10/site-packages/pandas/_libs/index.pyx:138\u001b[0m, in \u001b[0;36mpandas._libs.index.IndexEngine.get_loc\u001b[0;34m()\u001b[0m\n",
      "File \u001b[0;32m~/anaconda3/lib/python3.10/site-packages/pandas/_libs/index.pyx:165\u001b[0m, in \u001b[0;36mpandas._libs.index.IndexEngine.get_loc\u001b[0;34m()\u001b[0m\n",
      "File \u001b[0;32mpandas/_libs/hashtable_class_helper.pxi:5745\u001b[0m, in \u001b[0;36mpandas._libs.hashtable.PyObjectHashTable.get_item\u001b[0;34m()\u001b[0m\n",
      "File \u001b[0;32mpandas/_libs/hashtable_class_helper.pxi:5753\u001b[0m, in \u001b[0;36mpandas._libs.hashtable.PyObjectHashTable.get_item\u001b[0;34m()\u001b[0m\n",
      "\u001b[0;31mKeyError\u001b[0m: 'Order Zipcode'",
      "\nThe above exception was the direct cause of the following exception:\n",
      "\u001b[0;31mKeyError\u001b[0m                                  Traceback (most recent call last)",
      "Cell \u001b[0;32mIn[8], line 1\u001b[0m\n\u001b[0;32m----> 1\u001b[0m \u001b[43mdf\u001b[49m\u001b[43m[\u001b[49m\u001b[38;5;124;43m\"\u001b[39;49m\u001b[38;5;124;43mOrder Zipcode\u001b[39;49m\u001b[38;5;124;43m\"\u001b[39;49m\u001b[43m]\u001b[49m\u001b[38;5;241m.\u001b[39mfillna(\u001b[38;5;124m\"\u001b[39m\u001b[38;5;124mempty\u001b[39m\u001b[38;5;124m\"\u001b[39m, inplace \u001b[38;5;241m=\u001b[39m \u001b[38;5;28;01mTrue\u001b[39;00m)\n\u001b[1;32m      2\u001b[0m \u001b[38;5;28mprint\u001b[39m(df\u001b[38;5;241m.\u001b[39minfo())\n",
      "File \u001b[0;32m~/anaconda3/lib/python3.10/site-packages/pandas/core/frame.py:3807\u001b[0m, in \u001b[0;36mDataFrame.__getitem__\u001b[0;34m(self, key)\u001b[0m\n\u001b[1;32m   3805\u001b[0m \u001b[38;5;28;01mif\u001b[39;00m \u001b[38;5;28mself\u001b[39m\u001b[38;5;241m.\u001b[39mcolumns\u001b[38;5;241m.\u001b[39mnlevels \u001b[38;5;241m>\u001b[39m \u001b[38;5;241m1\u001b[39m:\n\u001b[1;32m   3806\u001b[0m     \u001b[38;5;28;01mreturn\u001b[39;00m \u001b[38;5;28mself\u001b[39m\u001b[38;5;241m.\u001b[39m_getitem_multilevel(key)\n\u001b[0;32m-> 3807\u001b[0m indexer \u001b[38;5;241m=\u001b[39m \u001b[38;5;28;43mself\u001b[39;49m\u001b[38;5;241;43m.\u001b[39;49m\u001b[43mcolumns\u001b[49m\u001b[38;5;241;43m.\u001b[39;49m\u001b[43mget_loc\u001b[49m\u001b[43m(\u001b[49m\u001b[43mkey\u001b[49m\u001b[43m)\u001b[49m\n\u001b[1;32m   3808\u001b[0m \u001b[38;5;28;01mif\u001b[39;00m is_integer(indexer):\n\u001b[1;32m   3809\u001b[0m     indexer \u001b[38;5;241m=\u001b[39m [indexer]\n",
      "File \u001b[0;32m~/anaconda3/lib/python3.10/site-packages/pandas/core/indexes/base.py:3804\u001b[0m, in \u001b[0;36mIndex.get_loc\u001b[0;34m(self, key, method, tolerance)\u001b[0m\n\u001b[1;32m   3802\u001b[0m     \u001b[38;5;28;01mreturn\u001b[39;00m \u001b[38;5;28mself\u001b[39m\u001b[38;5;241m.\u001b[39m_engine\u001b[38;5;241m.\u001b[39mget_loc(casted_key)\n\u001b[1;32m   3803\u001b[0m \u001b[38;5;28;01mexcept\u001b[39;00m \u001b[38;5;167;01mKeyError\u001b[39;00m \u001b[38;5;28;01mas\u001b[39;00m err:\n\u001b[0;32m-> 3804\u001b[0m     \u001b[38;5;28;01mraise\u001b[39;00m \u001b[38;5;167;01mKeyError\u001b[39;00m(key) \u001b[38;5;28;01mfrom\u001b[39;00m \u001b[38;5;21;01merr\u001b[39;00m\n\u001b[1;32m   3805\u001b[0m \u001b[38;5;28;01mexcept\u001b[39;00m \u001b[38;5;167;01mTypeError\u001b[39;00m:\n\u001b[1;32m   3806\u001b[0m     \u001b[38;5;66;03m# If we have a listlike key, _check_indexing_error will raise\u001b[39;00m\n\u001b[1;32m   3807\u001b[0m     \u001b[38;5;66;03m#  InvalidIndexError. Otherwise we fall through and re-raise\u001b[39;00m\n\u001b[1;32m   3808\u001b[0m     \u001b[38;5;66;03m#  the TypeError.\u001b[39;00m\n\u001b[1;32m   3809\u001b[0m     \u001b[38;5;28mself\u001b[39m\u001b[38;5;241m.\u001b[39m_check_indexing_error(key)\n",
      "\u001b[0;31mKeyError\u001b[0m: 'Order Zipcode'"
     ]
    }
   ],
   "source": [
    "df[\"Order Zipcode\"].fillna(\"empty\", inplace = True)\n",
    "print(df.info())\n"
   ]
  },
  {
   "cell_type": "code",
   "execution_count": 9,
   "id": "d71733b5",
   "metadata": {},
   "outputs": [
    {
     "name": "stdout",
     "output_type": "stream",
     "text": [
      "            Type  Days for shipping (real)  Days for shipment (scheduled)  \\\n",
      "0           CASH                         2                              4   \n",
      "1        PAYMENT                         3                              4   \n",
      "2        PAYMENT                         3                              4   \n",
      "3        PAYMENT                         3                              4   \n",
      "4           CASH                         5                              4   \n",
      "...          ...                       ...                            ...   \n",
      "180514  TRANSFER                         6                              4   \n",
      "180515     DEBIT                         2                              4   \n",
      "180516     DEBIT                         3                              4   \n",
      "180517   PAYMENT                         4                              4   \n",
      "180518      CASH                         1                              0   \n",
      "\n",
      "        Benefit per order  Sales per customer   Delivery Status  \\\n",
      "0               88.790001          239.979996  Advance shipping   \n",
      "1               91.180000          193.990005  Advance shipping   \n",
      "2               36.470001          107.889999  Advance shipping   \n",
      "3               68.250000          227.500000  Advance shipping   \n",
      "4                4.100000           40.980000     Late delivery   \n",
      "...                   ...                 ...               ...   \n",
      "180514        -107.959999          161.869995     Late delivery   \n",
      "180515        -126.559998          172.660004  Advance shipping   \n",
      "180516          91.250000          314.640015  Advance shipping   \n",
      "180517           1.530000           10.910000  Shipping on time   \n",
      "180518           9.790000           34.980000     Late delivery   \n",
      "\n",
      "        Late_delivery_risk  Category Id     Category Name Customer City  ...  \\\n",
      "0                        0           43  Camping & Hiking       Hickory  ...   \n",
      "1                        0           48      Water Sports       Chicago  ...   \n",
      "2                        0           18    Men's Footwear       Chicago  ...   \n",
      "3                        0           24   Women's Apparel       Chicago  ...   \n",
      "4                        1           40       Accessories   San Antonio  ...   \n",
      "...                    ...          ...               ...           ...  ...   \n",
      "180514                   1           76  Women's Clothing        Caguas  ...   \n",
      "180515                   0           76  Women's Clothing    Plainfield  ...   \n",
      "180516                   0           73    Sporting Goods        Caguas  ...   \n",
      "180517                   0           74              Toys        Berwyn  ...   \n",
      "180518                   1           75       Video Games         Miami  ...   \n",
      "\n",
      "       Order Zipcode Product Card Id Product Category Id  Product Description  \\\n",
      "0                NaN             957                  43                  NaN   \n",
      "1                NaN            1073                  48                  NaN   \n",
      "2                NaN             403                  18                  NaN   \n",
      "3                NaN             502                  24                  NaN   \n",
      "4                NaN             897                  40                  NaN   \n",
      "...              ...             ...                 ...                  ...   \n",
      "180514           NaN            1363                  76                  NaN   \n",
      "180515           NaN            1363                  76                  NaN   \n",
      "180516           NaN            1360                  73                  NaN   \n",
      "180517           NaN            1361                  74                  NaN   \n",
      "180518           NaN            1362                  75                  NaN   \n",
      "\n",
      "                                            Product Image  \\\n",
      "0       http://images.acmesports.sports/Diamondback+Wo...   \n",
      "1       http://images.acmesports.sports/Pelican+Sunstr...   \n",
      "2       http://images.acmesports.sports/Nike+Men%27s+C...   \n",
      "3       http://images.acmesports.sports/Nike+Men%27s+D...   \n",
      "4       http://images.acmesports.sports/Team+Golf+New+...   \n",
      "...                                                   ...   \n",
      "180514     http://images.acmesports.sports/Summer+dresses   \n",
      "180515     http://images.acmesports.sports/Summer+dresses   \n",
      "180516       http://images.acmesports.sports/Smart+watch    \n",
      "180517              http://images.acmesports.sports/Toys    \n",
      "180518  http://images.acmesports.sports/Fighting+video...   \n",
      "\n",
      "                                         Product Name Product Price  \\\n",
      "0       Diamondback Women's Serene Classic Comfort Bi    299.980011   \n",
      "1                         Pelican Sunstream 100 Kayak    199.990005   \n",
      "2             Nike Men's CJ Elite 2 TD Football Cleat    129.990005   \n",
      "3                Nike Men's Dri-FIT Victory Golf Polo     50.000000   \n",
      "4          Team Golf New England Patriots Putter Grip     24.990000   \n",
      "...                                               ...           ...   \n",
      "180514                                 Summer dresses    215.820007   \n",
      "180515                                 Summer dresses    215.820007   \n",
      "180516                                   Smart watch     327.750000   \n",
      "180517                                          Toys      11.540000   \n",
      "180518                           Fighting video games     39.750000   \n",
      "\n",
      "       Product Status shipping date (DateOrders)   Shipping Mode  \n",
      "0                   0           01/03/2015 00:00  Standard Class  \n",
      "1                   0           01/04/2015 00:21  Standard Class  \n",
      "2                   0           01/04/2015 00:21  Standard Class  \n",
      "3                   0           01/04/2015 00:21  Standard Class  \n",
      "4                   0           01/06/2015 01:03  Standard Class  \n",
      "...               ...                        ...             ...  \n",
      "180514              0           02/06/2018 22:14  Standard Class  \n",
      "180515              0           02/02/2018 22:35  Standard Class  \n",
      "180516              0           02/03/2018 22:56  Standard Class  \n",
      "180517              0           02/04/2018 23:17  Standard Class  \n",
      "180518              0           02/01/2018 11:38        Same Day  \n",
      "\n",
      "[180519 rows x 53 columns]\n"
     ]
    }
   ],
   "source": [
    "import pandas as pd\n",
    "df = pd.read_csv('Data_Set.csv')\n",
    "print(df)"
   ]
  },
  {
   "cell_type": "code",
   "execution_count": 10,
   "id": "328b30f5",
   "metadata": {},
   "outputs": [
    {
     "name": "stdout",
     "output_type": "stream",
     "text": [
      "<class 'pandas.core.frame.DataFrame'>\n",
      "RangeIndex: 180519 entries, 0 to 180518\n",
      "Data columns (total 53 columns):\n",
      " #   Column                         Non-Null Count   Dtype  \n",
      "---  ------                         --------------   -----  \n",
      " 0   Type                           180519 non-null  object \n",
      " 1   Days for shipping (real)       180519 non-null  int64  \n",
      " 2   Days for shipment (scheduled)  180519 non-null  int64  \n",
      " 3   Benefit per order              180519 non-null  float64\n",
      " 4   Sales per customer             180519 non-null  float64\n",
      " 5   Delivery Status                180519 non-null  object \n",
      " 6   Late_delivery_risk             180519 non-null  int64  \n",
      " 7   Category Id                    180519 non-null  int64  \n",
      " 8   Category Name                  180519 non-null  object \n",
      " 9   Customer City                  180519 non-null  object \n",
      " 10  Customer Country               180519 non-null  object \n",
      " 11  Customer Email                 180519 non-null  object \n",
      " 12  Customer Fname                 180519 non-null  object \n",
      " 13  Customer Id                    180519 non-null  int64  \n",
      " 14  Customer Lname                 180511 non-null  object \n",
      " 15  Customer Password              180519 non-null  object \n",
      " 16  Customer Segment               180519 non-null  object \n",
      " 17  Customer State                 180519 non-null  object \n",
      " 18  Customer Street                180519 non-null  object \n",
      " 19  Customer Zipcode               180516 non-null  float64\n",
      " 20  Department Id                  180519 non-null  int64  \n",
      " 21  Department Name                180519 non-null  object \n",
      " 22  Latitude                       180519 non-null  float64\n",
      " 23  Longitude                      180519 non-null  float64\n",
      " 24  Market                         180519 non-null  object \n",
      " 25  Order City                     180519 non-null  object \n",
      " 26  Order Country                  180519 non-null  object \n",
      " 27  Order Customer Id              180519 non-null  int64  \n",
      " 28  order date (DateOrders)        180519 non-null  object \n",
      " 29  Order Id                       180519 non-null  int64  \n",
      " 30  Order Item Cardprod Id         180519 non-null  int64  \n",
      " 31  Order Item Discount            180519 non-null  float64\n",
      " 32  Order Item Discount Rate       180519 non-null  float64\n",
      " 33  Order Item Id                  180519 non-null  int64  \n",
      " 34  Order Item Product Price       180519 non-null  float64\n",
      " 35  Order Item Profit Ratio        180519 non-null  float64\n",
      " 36  Order Item Quantity            180519 non-null  int64  \n",
      " 37  Sales                          180519 non-null  float64\n",
      " 38  Order Item Total               180519 non-null  float64\n",
      " 39  Order Profit Per Order         180519 non-null  float64\n",
      " 40  Order Region                   180519 non-null  object \n",
      " 41  Order State                    180519 non-null  object \n",
      " 42  Order Status                   180519 non-null  object \n",
      " 43  Order Zipcode                  180519 non-null  object \n",
      " 44  Product Card Id                180519 non-null  int64  \n",
      " 45  Product Category Id            180519 non-null  int64  \n",
      " 46  Product Description            0 non-null       float64\n",
      " 47  Product Image                  180519 non-null  object \n",
      " 48  Product Name                   180519 non-null  object \n",
      " 49  Product Price                  180519 non-null  float64\n",
      " 50  Product Status                 180519 non-null  int64  \n",
      " 51  shipping date (DateOrders)     180519 non-null  object \n",
      " 52  Shipping Mode                  180519 non-null  object \n",
      "dtypes: float64(14), int64(14), object(25)\n",
      "memory usage: 73.0+ MB\n",
      "None\n"
     ]
    }
   ],
   "source": [
    "df[\"Order Zipcode\"].fillna(\"empty\", inplace = True)\n",
    "print(df.info())\n"
   ]
  },
  {
   "cell_type": "code",
   "execution_count": 11,
   "id": "de42247d",
   "metadata": {},
   "outputs": [
    {
     "name": "stdout",
     "output_type": "stream",
     "text": [
      "0         11599\n",
      "1           256\n",
      "2           256\n",
      "3           256\n",
      "4          8827\n",
      "          ...  \n",
      "180514    20753\n",
      "180515    20754\n",
      "180516    20755\n",
      "180517    20756\n",
      "180518    20757\n",
      "Name: Customer Id, Length: 180519, dtype: int64\n"
     ]
    }
   ],
   "source": [
    "print(df[\"Customer Id\"])"
   ]
  },
  {
   "cell_type": "code",
   "execution_count": 12,
   "id": "c5e50ac7",
   "metadata": {},
   "outputs": [
    {
     "name": "stdout",
     "output_type": "stream",
     "text": [
      "0         11599\n",
      "1           256\n",
      "2           256\n",
      "3            45\n",
      "4          8827\n",
      "          ...  \n",
      "180514    20753\n",
      "180515    20754\n",
      "180516    20755\n",
      "180517    20756\n",
      "180518    20757\n",
      "Name: Customer Id, Length: 180519, dtype: int64\n",
      "RangeIndex(start=0, stop=180519, step=1)\n"
     ]
    }
   ],
   "source": [
    "df.loc[3, \"Customer Id\"] = 45\n",
    "print(df[\"Customer Id\"])\n",
    "print(df.index)"
   ]
  },
  {
   "cell_type": "code",
   "execution_count": 14,
   "id": "2f1ec681",
   "metadata": {},
   "outputs": [
    {
     "name": "stdout",
     "output_type": "stream",
     "text": [
      "0         245.000000\n",
      "1         199.990005\n",
      "2         129.990005\n",
      "3          50.000000\n",
      "4          24.990000\n",
      "             ...    \n",
      "180514    215.820007\n",
      "180515    215.820007\n",
      "180516    245.000000\n",
      "180517     11.540000\n",
      "180518     39.750000\n",
      "Name: Product Price, Length: 180519, dtype: float64\n"
     ]
    }
   ],
   "source": [
    "for x in df.index:\n",
    "    if df.loc[x, \"Product Price\"] > 250:\n",
    "        df.loc[x, \"Product Price\"] = 245\n",
    "        \n",
    "print(df[\"Product Price\"])"
   ]
  },
  {
   "cell_type": "code",
   "execution_count": null,
   "id": "c2344f1b",
   "metadata": {},
   "outputs": [],
   "source": [
    "for x in df.index:\n",
    "    if df.loc[x, \"Product Price\"] > 240:\n",
    "        df.drop(x, inplace = True)\n",
    "                \n",
    "        \n",
    "print(df[\"Product Price\"])\n",
    "print(df.info())\n"
   ]
  },
  {
   "cell_type": "code",
   "execution_count": null,
   "id": "49c2fad3",
   "metadata": {},
   "outputs": [],
   "source": [
    "for x in df.index:\n",
    "    if df.loc[x, \"Product Price\"] > 240:\n",
    "        df.drop(x, inplace = True)\n",
    "                      \n",
    "print(df[\"Product Price\"])\n",
    "print(df.info())\n"
   ]
  },
  {
   "cell_type": "code",
   "execution_count": 17,
   "id": "1f6618ad",
   "metadata": {},
   "outputs": [
    {
     "ename": "KeyboardInterrupt",
     "evalue": "",
     "output_type": "error",
     "traceback": [
      "\u001b[0;31m---------------------------------------------------------------------------\u001b[0m",
      "\u001b[0;31mKeyboardInterrupt\u001b[0m                         Traceback (most recent call last)",
      "Cell \u001b[0;32mIn[17], line 3\u001b[0m\n\u001b[1;32m      1\u001b[0m \u001b[38;5;28;01mfor\u001b[39;00m x \u001b[38;5;129;01min\u001b[39;00m df\u001b[38;5;241m.\u001b[39mindex:\n\u001b[1;32m      2\u001b[0m     \u001b[38;5;28;01mif\u001b[39;00m df\u001b[38;5;241m.\u001b[39mloc[x, \u001b[38;5;124m\"\u001b[39m\u001b[38;5;124mProduct Price\u001b[39m\u001b[38;5;124m\"\u001b[39m] \u001b[38;5;241m>\u001b[39m \u001b[38;5;241m240\u001b[39m:\n\u001b[0;32m----> 3\u001b[0m         \u001b[43mdf\u001b[49m\u001b[38;5;241;43m.\u001b[39;49m\u001b[43mdrop\u001b[49m\u001b[43m(\u001b[49m\u001b[43mx\u001b[49m\u001b[43m,\u001b[49m\u001b[43m \u001b[49m\u001b[43minplace\u001b[49m\u001b[43m \u001b[49m\u001b[38;5;241;43m=\u001b[39;49m\u001b[43m \u001b[49m\u001b[38;5;28;43;01mTrue\u001b[39;49;00m\u001b[43m)\u001b[49m\n\u001b[1;32m      5\u001b[0m \u001b[38;5;28mprint\u001b[39m(df[\u001b[38;5;124m\"\u001b[39m\u001b[38;5;124mProduct Price\u001b[39m\u001b[38;5;124m\"\u001b[39m])\n\u001b[1;32m      6\u001b[0m \u001b[38;5;28mprint\u001b[39m(df\u001b[38;5;241m.\u001b[39minfo())\n",
      "File \u001b[0;32m~/anaconda3/lib/python3.10/site-packages/pandas/util/_decorators.py:331\u001b[0m, in \u001b[0;36mdeprecate_nonkeyword_arguments.<locals>.decorate.<locals>.wrapper\u001b[0;34m(*args, **kwargs)\u001b[0m\n\u001b[1;32m    325\u001b[0m \u001b[38;5;28;01mif\u001b[39;00m \u001b[38;5;28mlen\u001b[39m(args) \u001b[38;5;241m>\u001b[39m num_allow_args:\n\u001b[1;32m    326\u001b[0m     warnings\u001b[38;5;241m.\u001b[39mwarn(\n\u001b[1;32m    327\u001b[0m         msg\u001b[38;5;241m.\u001b[39mformat(arguments\u001b[38;5;241m=\u001b[39m_format_argument_list(allow_args)),\n\u001b[1;32m    328\u001b[0m         \u001b[38;5;167;01mFutureWarning\u001b[39;00m,\n\u001b[1;32m    329\u001b[0m         stacklevel\u001b[38;5;241m=\u001b[39mfind_stack_level(),\n\u001b[1;32m    330\u001b[0m     )\n\u001b[0;32m--> 331\u001b[0m \u001b[38;5;28;01mreturn\u001b[39;00m \u001b[43mfunc\u001b[49m\u001b[43m(\u001b[49m\u001b[38;5;241;43m*\u001b[39;49m\u001b[43margs\u001b[49m\u001b[43m,\u001b[49m\u001b[43m \u001b[49m\u001b[38;5;241;43m*\u001b[39;49m\u001b[38;5;241;43m*\u001b[39;49m\u001b[43mkwargs\u001b[49m\u001b[43m)\u001b[49m\n",
      "File \u001b[0;32m~/anaconda3/lib/python3.10/site-packages/pandas/core/frame.py:5399\u001b[0m, in \u001b[0;36mDataFrame.drop\u001b[0;34m(self, labels, axis, index, columns, level, inplace, errors)\u001b[0m\n\u001b[1;32m   5251\u001b[0m \u001b[38;5;129m@deprecate_nonkeyword_arguments\u001b[39m(version\u001b[38;5;241m=\u001b[39m\u001b[38;5;28;01mNone\u001b[39;00m, allowed_args\u001b[38;5;241m=\u001b[39m[\u001b[38;5;124m\"\u001b[39m\u001b[38;5;124mself\u001b[39m\u001b[38;5;124m\"\u001b[39m, \u001b[38;5;124m\"\u001b[39m\u001b[38;5;124mlabels\u001b[39m\u001b[38;5;124m\"\u001b[39m])\n\u001b[1;32m   5252\u001b[0m \u001b[38;5;28;01mdef\u001b[39;00m \u001b[38;5;21mdrop\u001b[39m(  \u001b[38;5;66;03m# type: ignore[override]\u001b[39;00m\n\u001b[1;32m   5253\u001b[0m     \u001b[38;5;28mself\u001b[39m,\n\u001b[0;32m   (...)\u001b[0m\n\u001b[1;32m   5260\u001b[0m     errors: IgnoreRaise \u001b[38;5;241m=\u001b[39m \u001b[38;5;124m\"\u001b[39m\u001b[38;5;124mraise\u001b[39m\u001b[38;5;124m\"\u001b[39m,\n\u001b[1;32m   5261\u001b[0m ) \u001b[38;5;241m-\u001b[39m\u001b[38;5;241m>\u001b[39m DataFrame \u001b[38;5;241m|\u001b[39m \u001b[38;5;28;01mNone\u001b[39;00m:\n\u001b[1;32m   5262\u001b[0m     \u001b[38;5;124;03m\"\"\"\u001b[39;00m\n\u001b[1;32m   5263\u001b[0m \u001b[38;5;124;03m    Drop specified labels from rows or columns.\u001b[39;00m\n\u001b[1;32m   5264\u001b[0m \n\u001b[0;32m   (...)\u001b[0m\n\u001b[1;32m   5397\u001b[0m \u001b[38;5;124;03m            weight  1.0     0.8\u001b[39;00m\n\u001b[1;32m   5398\u001b[0m \u001b[38;5;124;03m    \"\"\"\u001b[39;00m\n\u001b[0;32m-> 5399\u001b[0m     \u001b[38;5;28;01mreturn\u001b[39;00m \u001b[38;5;28;43msuper\u001b[39;49m\u001b[43m(\u001b[49m\u001b[43m)\u001b[49m\u001b[38;5;241;43m.\u001b[39;49m\u001b[43mdrop\u001b[49m\u001b[43m(\u001b[49m\n\u001b[1;32m   5400\u001b[0m \u001b[43m        \u001b[49m\u001b[43mlabels\u001b[49m\u001b[38;5;241;43m=\u001b[39;49m\u001b[43mlabels\u001b[49m\u001b[43m,\u001b[49m\n\u001b[1;32m   5401\u001b[0m \u001b[43m        \u001b[49m\u001b[43maxis\u001b[49m\u001b[38;5;241;43m=\u001b[39;49m\u001b[43maxis\u001b[49m\u001b[43m,\u001b[49m\n\u001b[1;32m   5402\u001b[0m \u001b[43m        \u001b[49m\u001b[43mindex\u001b[49m\u001b[38;5;241;43m=\u001b[39;49m\u001b[43mindex\u001b[49m\u001b[43m,\u001b[49m\n\u001b[1;32m   5403\u001b[0m \u001b[43m        \u001b[49m\u001b[43mcolumns\u001b[49m\u001b[38;5;241;43m=\u001b[39;49m\u001b[43mcolumns\u001b[49m\u001b[43m,\u001b[49m\n\u001b[1;32m   5404\u001b[0m \u001b[43m        \u001b[49m\u001b[43mlevel\u001b[49m\u001b[38;5;241;43m=\u001b[39;49m\u001b[43mlevel\u001b[49m\u001b[43m,\u001b[49m\n\u001b[1;32m   5405\u001b[0m \u001b[43m        \u001b[49m\u001b[43minplace\u001b[49m\u001b[38;5;241;43m=\u001b[39;49m\u001b[43minplace\u001b[49m\u001b[43m,\u001b[49m\n\u001b[1;32m   5406\u001b[0m \u001b[43m        \u001b[49m\u001b[43merrors\u001b[49m\u001b[38;5;241;43m=\u001b[39;49m\u001b[43merrors\u001b[49m\u001b[43m,\u001b[49m\n\u001b[1;32m   5407\u001b[0m \u001b[43m    \u001b[49m\u001b[43m)\u001b[49m\n",
      "File \u001b[0;32m~/anaconda3/lib/python3.10/site-packages/pandas/util/_decorators.py:331\u001b[0m, in \u001b[0;36mdeprecate_nonkeyword_arguments.<locals>.decorate.<locals>.wrapper\u001b[0;34m(*args, **kwargs)\u001b[0m\n\u001b[1;32m    325\u001b[0m \u001b[38;5;28;01mif\u001b[39;00m \u001b[38;5;28mlen\u001b[39m(args) \u001b[38;5;241m>\u001b[39m num_allow_args:\n\u001b[1;32m    326\u001b[0m     warnings\u001b[38;5;241m.\u001b[39mwarn(\n\u001b[1;32m    327\u001b[0m         msg\u001b[38;5;241m.\u001b[39mformat(arguments\u001b[38;5;241m=\u001b[39m_format_argument_list(allow_args)),\n\u001b[1;32m    328\u001b[0m         \u001b[38;5;167;01mFutureWarning\u001b[39;00m,\n\u001b[1;32m    329\u001b[0m         stacklevel\u001b[38;5;241m=\u001b[39mfind_stack_level(),\n\u001b[1;32m    330\u001b[0m     )\n\u001b[0;32m--> 331\u001b[0m \u001b[38;5;28;01mreturn\u001b[39;00m \u001b[43mfunc\u001b[49m\u001b[43m(\u001b[49m\u001b[38;5;241;43m*\u001b[39;49m\u001b[43margs\u001b[49m\u001b[43m,\u001b[49m\u001b[43m \u001b[49m\u001b[38;5;241;43m*\u001b[39;49m\u001b[38;5;241;43m*\u001b[39;49m\u001b[43mkwargs\u001b[49m\u001b[43m)\u001b[49m\n",
      "File \u001b[0;32m~/anaconda3/lib/python3.10/site-packages/pandas/core/generic.py:4508\u001b[0m, in \u001b[0;36mNDFrame.drop\u001b[0;34m(self, labels, axis, index, columns, level, inplace, errors)\u001b[0m\n\u001b[1;32m   4505\u001b[0m         obj \u001b[38;5;241m=\u001b[39m obj\u001b[38;5;241m.\u001b[39m_drop_axis(labels, axis, level\u001b[38;5;241m=\u001b[39mlevel, errors\u001b[38;5;241m=\u001b[39merrors)\n\u001b[1;32m   4507\u001b[0m \u001b[38;5;28;01mif\u001b[39;00m inplace:\n\u001b[0;32m-> 4508\u001b[0m     \u001b[38;5;28;43mself\u001b[39;49m\u001b[38;5;241;43m.\u001b[39;49m\u001b[43m_update_inplace\u001b[49m\u001b[43m(\u001b[49m\u001b[43mobj\u001b[49m\u001b[43m)\u001b[49m\n\u001b[1;32m   4509\u001b[0m \u001b[38;5;28;01melse\u001b[39;00m:\n\u001b[1;32m   4510\u001b[0m     \u001b[38;5;28;01mreturn\u001b[39;00m obj\n",
      "File \u001b[0;32m~/anaconda3/lib/python3.10/site-packages/pandas/core/generic.py:4613\u001b[0m, in \u001b[0;36mNDFrame._update_inplace\u001b[0;34m(self, result, verify_is_copy)\u001b[0m\n\u001b[1;32m   4611\u001b[0m \u001b[38;5;28mself\u001b[39m\u001b[38;5;241m.\u001b[39m_reset_cache()\n\u001b[1;32m   4612\u001b[0m \u001b[38;5;28mself\u001b[39m\u001b[38;5;241m.\u001b[39m_clear_item_cache()\n\u001b[0;32m-> 4613\u001b[0m \u001b[38;5;28mself\u001b[39m\u001b[38;5;241m.\u001b[39m_mgr \u001b[38;5;241m=\u001b[39m result\u001b[38;5;241m.\u001b[39m_mgr\n\u001b[1;32m   4614\u001b[0m \u001b[38;5;28mself\u001b[39m\u001b[38;5;241m.\u001b[39m_maybe_update_cacher(verify_is_copy\u001b[38;5;241m=\u001b[39mverify_is_copy, inplace\u001b[38;5;241m=\u001b[39m\u001b[38;5;28;01mTrue\u001b[39;00m)\n",
      "File \u001b[0;32m~/anaconda3/lib/python3.10/site-packages/pandas/core/generic.py:5915\u001b[0m, in \u001b[0;36mNDFrame.__setattr__\u001b[0;34m(self, name, value)\u001b[0m\n\u001b[1;32m   5913\u001b[0m \u001b[38;5;28;01mtry\u001b[39;00m:\n\u001b[1;32m   5914\u001b[0m     \u001b[38;5;28mobject\u001b[39m\u001b[38;5;241m.\u001b[39m\u001b[38;5;21m__getattribute__\u001b[39m(\u001b[38;5;28mself\u001b[39m, name)\n\u001b[0;32m-> 5915\u001b[0m     \u001b[38;5;28;01mreturn\u001b[39;00m \u001b[38;5;28;43mobject\u001b[39;49m\u001b[38;5;241;43m.\u001b[39;49m\u001b[38;5;21;43m__setattr__\u001b[39;49m\u001b[43m(\u001b[49m\u001b[38;5;28;43mself\u001b[39;49m\u001b[43m,\u001b[49m\u001b[43m \u001b[49m\u001b[43mname\u001b[49m\u001b[43m,\u001b[49m\u001b[43m \u001b[49m\u001b[43mvalue\u001b[49m\u001b[43m)\u001b[49m\n\u001b[1;32m   5916\u001b[0m \u001b[38;5;28;01mexcept\u001b[39;00m \u001b[38;5;167;01mAttributeError\u001b[39;00m:\n\u001b[1;32m   5917\u001b[0m     \u001b[38;5;28;01mpass\u001b[39;00m\n",
      "\u001b[0;31mKeyboardInterrupt\u001b[0m: "
     ]
    }
   ],
   "source": [
    "for x in df.index:\n",
    "    if df.loc[x, \"Product Price\"] > 240:\n",
    "        df.drop(x, inplace = True)\n",
    "                      \n",
    "print(df[\"Product Price\"])\n",
    "print(df.info())\n"
   ]
  },
  {
   "cell_type": "code",
   "execution_count": 18,
   "id": "66261220",
   "metadata": {},
   "outputs": [
    {
     "name": "stderr",
     "output_type": "stream",
     "text": [
      "/var/folders/1k/byvz5y1s6yjf6_1r_snyw26h0000gn/T/ipykernel_50218/1134722465.py:1: FutureWarning: The default value of numeric_only in DataFrame.corr is deprecated. In a future version, it will default to False. Select only valid columns or specify the value of numeric_only to silence this warning.\n",
      "  df.corr()\n"
     ]
    },
    {
     "data": {
      "text/html": [
       "<div>\n",
       "<style scoped>\n",
       "    .dataframe tbody tr th:only-of-type {\n",
       "        vertical-align: middle;\n",
       "    }\n",
       "\n",
       "    .dataframe tbody tr th {\n",
       "        vertical-align: top;\n",
       "    }\n",
       "\n",
       "    .dataframe thead th {\n",
       "        text-align: right;\n",
       "    }\n",
       "</style>\n",
       "<table border=\"1\" class=\"dataframe\">\n",
       "  <thead>\n",
       "    <tr style=\"text-align: right;\">\n",
       "      <th></th>\n",
       "      <th>Days for shipping (real)</th>\n",
       "      <th>Days for shipment (scheduled)</th>\n",
       "      <th>Benefit per order</th>\n",
       "      <th>Sales per customer</th>\n",
       "      <th>Late_delivery_risk</th>\n",
       "      <th>Category Id</th>\n",
       "      <th>Customer Id</th>\n",
       "      <th>Customer Zipcode</th>\n",
       "      <th>Department Id</th>\n",
       "      <th>Latitude</th>\n",
       "      <th>...</th>\n",
       "      <th>Order Item Profit Ratio</th>\n",
       "      <th>Order Item Quantity</th>\n",
       "      <th>Sales</th>\n",
       "      <th>Order Item Total</th>\n",
       "      <th>Order Profit Per Order</th>\n",
       "      <th>Product Card Id</th>\n",
       "      <th>Product Category Id</th>\n",
       "      <th>Product Description</th>\n",
       "      <th>Product Price</th>\n",
       "      <th>Product Status</th>\n",
       "    </tr>\n",
       "  </thead>\n",
       "  <tbody>\n",
       "    <tr>\n",
       "      <th>Days for shipping (real)</th>\n",
       "      <td>1.000000</td>\n",
       "      <td>0.516465</td>\n",
       "      <td>-0.003719</td>\n",
       "      <td>0.001218</td>\n",
       "      <td>0.400693</td>\n",
       "      <td>-0.000733</td>\n",
       "      <td>0.003307</td>\n",
       "      <td>-0.000441</td>\n",
       "      <td>-0.002164</td>\n",
       "      <td>-0.004224</td>\n",
       "      <td>...</td>\n",
       "      <td>-0.003686</td>\n",
       "      <td>-0.000505</td>\n",
       "      <td>0.001497</td>\n",
       "      <td>0.001218</td>\n",
       "      <td>-0.003719</td>\n",
       "      <td>-0.001313</td>\n",
       "      <td>-0.000733</td>\n",
       "      <td>NaN</td>\n",
       "      <td>-0.000321</td>\n",
       "      <td>NaN</td>\n",
       "    </tr>\n",
       "    <tr>\n",
       "      <th>Days for shipment (scheduled)</th>\n",
       "      <td>0.516465</td>\n",
       "      <td>1.000000</td>\n",
       "      <td>-0.000019</td>\n",
       "      <td>0.006272</td>\n",
       "      <td>-0.369298</td>\n",
       "      <td>-0.000913</td>\n",
       "      <td>0.000634</td>\n",
       "      <td>-0.003373</td>\n",
       "      <td>-0.000977</td>\n",
       "      <td>-0.005990</td>\n",
       "      <td>...</td>\n",
       "      <td>-0.001798</td>\n",
       "      <td>-0.002511</td>\n",
       "      <td>0.006231</td>\n",
       "      <td>0.006272</td>\n",
       "      <td>-0.000019</td>\n",
       "      <td>-0.001039</td>\n",
       "      <td>-0.000913</td>\n",
       "      <td>NaN</td>\n",
       "      <td>0.002706</td>\n",
       "      <td>NaN</td>\n",
       "    </tr>\n",
       "    <tr>\n",
       "      <th>Benefit per order</th>\n",
       "      <td>-0.003719</td>\n",
       "      <td>-0.000019</td>\n",
       "      <td>1.000000</td>\n",
       "      <td>0.136216</td>\n",
       "      <td>-0.002984</td>\n",
       "      <td>0.026365</td>\n",
       "      <td>0.010872</td>\n",
       "      <td>0.001648</td>\n",
       "      <td>0.024474</td>\n",
       "      <td>0.000162</td>\n",
       "      <td>...</td>\n",
       "      <td>0.815038</td>\n",
       "      <td>0.025314</td>\n",
       "      <td>0.134483</td>\n",
       "      <td>0.136216</td>\n",
       "      <td>1.000000</td>\n",
       "      <td>0.027012</td>\n",
       "      <td>0.026365</td>\n",
       "      <td>NaN</td>\n",
       "      <td>0.074366</td>\n",
       "      <td>NaN</td>\n",
       "    </tr>\n",
       "    <tr>\n",
       "      <th>Sales per customer</th>\n",
       "      <td>0.001218</td>\n",
       "      <td>0.006272</td>\n",
       "      <td>0.136216</td>\n",
       "      <td>1.000000</td>\n",
       "      <td>-0.005174</td>\n",
       "      <td>0.179667</td>\n",
       "      <td>0.072856</td>\n",
       "      <td>-0.000941</td>\n",
       "      <td>0.177451</td>\n",
       "      <td>0.000295</td>\n",
       "      <td>...</td>\n",
       "      <td>-0.001224</td>\n",
       "      <td>0.172009</td>\n",
       "      <td>0.990164</td>\n",
       "      <td>1.000000</td>\n",
       "      <td>0.136216</td>\n",
       "      <td>0.186185</td>\n",
       "      <td>0.179667</td>\n",
       "      <td>NaN</td>\n",
       "      <td>0.544734</td>\n",
       "      <td>NaN</td>\n",
       "    </tr>\n",
       "    <tr>\n",
       "      <th>Late_delivery_risk</th>\n",
       "      <td>0.400693</td>\n",
       "      <td>-0.369298</td>\n",
       "      <td>-0.002984</td>\n",
       "      <td>-0.005174</td>\n",
       "      <td>1.000000</td>\n",
       "      <td>0.001305</td>\n",
       "      <td>0.001174</td>\n",
       "      <td>0.002241</td>\n",
       "      <td>0.000574</td>\n",
       "      <td>0.000484</td>\n",
       "      <td>...</td>\n",
       "      <td>-0.001650</td>\n",
       "      <td>0.000312</td>\n",
       "      <td>-0.004997</td>\n",
       "      <td>-0.005174</td>\n",
       "      <td>-0.002984</td>\n",
       "      <td>0.000980</td>\n",
       "      <td>0.001305</td>\n",
       "      <td>NaN</td>\n",
       "      <td>-0.002447</td>\n",
       "      <td>NaN</td>\n",
       "    </tr>\n",
       "    <tr>\n",
       "      <th>Category Id</th>\n",
       "      <td>-0.000733</td>\n",
       "      <td>-0.000913</td>\n",
       "      <td>0.026365</td>\n",
       "      <td>0.179667</td>\n",
       "      <td>0.001305</td>\n",
       "      <td>1.000000</td>\n",
       "      <td>0.292260</td>\n",
       "      <td>0.003244</td>\n",
       "      <td>0.884357</td>\n",
       "      <td>0.002505</td>\n",
       "      <td>...</td>\n",
       "      <td>-0.001580</td>\n",
       "      <td>-0.274743</td>\n",
       "      <td>0.181414</td>\n",
       "      <td>0.179667</td>\n",
       "      <td>0.026365</td>\n",
       "      <td>0.990912</td>\n",
       "      <td>1.000000</td>\n",
       "      <td>NaN</td>\n",
       "      <td>0.428050</td>\n",
       "      <td>NaN</td>\n",
       "    </tr>\n",
       "    <tr>\n",
       "      <th>Customer Id</th>\n",
       "      <td>0.003307</td>\n",
       "      <td>0.000634</td>\n",
       "      <td>0.010872</td>\n",
       "      <td>0.072856</td>\n",
       "      <td>0.001174</td>\n",
       "      <td>0.292260</td>\n",
       "      <td>1.000000</td>\n",
       "      <td>0.001626</td>\n",
       "      <td>0.151176</td>\n",
       "      <td>0.002710</td>\n",
       "      <td>...</td>\n",
       "      <td>-0.000684</td>\n",
       "      <td>-0.100814</td>\n",
       "      <td>0.073848</td>\n",
       "      <td>0.072856</td>\n",
       "      <td>0.010872</td>\n",
       "      <td>0.245257</td>\n",
       "      <td>0.292260</td>\n",
       "      <td>NaN</td>\n",
       "      <td>0.091793</td>\n",
       "      <td>NaN</td>\n",
       "    </tr>\n",
       "    <tr>\n",
       "      <th>Customer Zipcode</th>\n",
       "      <td>-0.000441</td>\n",
       "      <td>-0.003373</td>\n",
       "      <td>0.001648</td>\n",
       "      <td>-0.000941</td>\n",
       "      <td>0.002241</td>\n",
       "      <td>0.003244</td>\n",
       "      <td>0.001626</td>\n",
       "      <td>1.000000</td>\n",
       "      <td>0.003292</td>\n",
       "      <td>0.584613</td>\n",
       "      <td>...</td>\n",
       "      <td>0.002959</td>\n",
       "      <td>-0.006678</td>\n",
       "      <td>-0.001292</td>\n",
       "      <td>-0.000941</td>\n",
       "      <td>0.001648</td>\n",
       "      <td>0.003569</td>\n",
       "      <td>0.003244</td>\n",
       "      <td>NaN</td>\n",
       "      <td>0.004583</td>\n",
       "      <td>NaN</td>\n",
       "    </tr>\n",
       "    <tr>\n",
       "      <th>Department Id</th>\n",
       "      <td>-0.002164</td>\n",
       "      <td>-0.000977</td>\n",
       "      <td>0.024474</td>\n",
       "      <td>0.177451</td>\n",
       "      <td>0.000574</td>\n",
       "      <td>0.884357</td>\n",
       "      <td>0.151176</td>\n",
       "      <td>0.003292</td>\n",
       "      <td>1.000000</td>\n",
       "      <td>0.002827</td>\n",
       "      <td>...</td>\n",
       "      <td>-0.003122</td>\n",
       "      <td>-0.229837</td>\n",
       "      <td>0.179175</td>\n",
       "      <td>0.177451</td>\n",
       "      <td>0.024474</td>\n",
       "      <td>0.901384</td>\n",
       "      <td>0.884357</td>\n",
       "      <td>NaN</td>\n",
       "      <td>0.378049</td>\n",
       "      <td>NaN</td>\n",
       "    </tr>\n",
       "    <tr>\n",
       "      <th>Latitude</th>\n",
       "      <td>-0.004224</td>\n",
       "      <td>-0.005990</td>\n",
       "      <td>0.000162</td>\n",
       "      <td>0.000295</td>\n",
       "      <td>0.000484</td>\n",
       "      <td>0.002505</td>\n",
       "      <td>0.002710</td>\n",
       "      <td>0.584613</td>\n",
       "      <td>0.002827</td>\n",
       "      <td>1.000000</td>\n",
       "      <td>...</td>\n",
       "      <td>-0.000214</td>\n",
       "      <td>-0.002120</td>\n",
       "      <td>-0.000350</td>\n",
       "      <td>0.000295</td>\n",
       "      <td>0.000162</td>\n",
       "      <td>0.002363</td>\n",
       "      <td>0.002505</td>\n",
       "      <td>NaN</td>\n",
       "      <td>0.000844</td>\n",
       "      <td>NaN</td>\n",
       "    </tr>\n",
       "    <tr>\n",
       "      <th>Longitude</th>\n",
       "      <td>0.004344</td>\n",
       "      <td>0.003844</td>\n",
       "      <td>-0.001970</td>\n",
       "      <td>0.001043</td>\n",
       "      <td>-0.000962</td>\n",
       "      <td>-0.002648</td>\n",
       "      <td>-0.004970</td>\n",
       "      <td>-0.923689</td>\n",
       "      <td>-0.002826</td>\n",
       "      <td>-0.525102</td>\n",
       "      <td>...</td>\n",
       "      <td>-0.003163</td>\n",
       "      <td>0.004886</td>\n",
       "      <td>0.001459</td>\n",
       "      <td>0.001043</td>\n",
       "      <td>-0.001970</td>\n",
       "      <td>-0.002955</td>\n",
       "      <td>-0.002648</td>\n",
       "      <td>NaN</td>\n",
       "      <td>-0.003389</td>\n",
       "      <td>NaN</td>\n",
       "    </tr>\n",
       "    <tr>\n",
       "      <th>Order Customer Id</th>\n",
       "      <td>0.003307</td>\n",
       "      <td>0.000634</td>\n",
       "      <td>0.010872</td>\n",
       "      <td>0.072856</td>\n",
       "      <td>0.001173</td>\n",
       "      <td>0.292260</td>\n",
       "      <td>1.000000</td>\n",
       "      <td>0.001626</td>\n",
       "      <td>0.151176</td>\n",
       "      <td>0.002710</td>\n",
       "      <td>...</td>\n",
       "      <td>-0.000684</td>\n",
       "      <td>-0.100814</td>\n",
       "      <td>0.073848</td>\n",
       "      <td>0.072856</td>\n",
       "      <td>0.010872</td>\n",
       "      <td>0.245257</td>\n",
       "      <td>0.292260</td>\n",
       "      <td>NaN</td>\n",
       "      <td>0.091793</td>\n",
       "      <td>NaN</td>\n",
       "    </tr>\n",
       "    <tr>\n",
       "      <th>Order Id</th>\n",
       "      <td>-0.001543</td>\n",
       "      <td>-0.001067</td>\n",
       "      <td>0.028014</td>\n",
       "      <td>0.177225</td>\n",
       "      <td>-0.000956</td>\n",
       "      <td>0.272749</td>\n",
       "      <td>0.210977</td>\n",
       "      <td>-0.001590</td>\n",
       "      <td>0.189754</td>\n",
       "      <td>-0.003708</td>\n",
       "      <td>...</td>\n",
       "      <td>0.002897</td>\n",
       "      <td>-0.152927</td>\n",
       "      <td>0.178965</td>\n",
       "      <td>0.177225</td>\n",
       "      <td>0.028014</td>\n",
       "      <td>0.242471</td>\n",
       "      <td>0.272749</td>\n",
       "      <td>NaN</td>\n",
       "      <td>0.236521</td>\n",
       "      <td>NaN</td>\n",
       "    </tr>\n",
       "    <tr>\n",
       "      <th>Order Item Cardprod Id</th>\n",
       "      <td>-0.001313</td>\n",
       "      <td>-0.001039</td>\n",
       "      <td>0.027012</td>\n",
       "      <td>0.186185</td>\n",
       "      <td>0.000980</td>\n",
       "      <td>0.990912</td>\n",
       "      <td>0.245257</td>\n",
       "      <td>0.003569</td>\n",
       "      <td>0.901384</td>\n",
       "      <td>0.002363</td>\n",
       "      <td>...</td>\n",
       "      <td>-0.001755</td>\n",
       "      <td>-0.282472</td>\n",
       "      <td>0.188025</td>\n",
       "      <td>0.186185</td>\n",
       "      <td>0.027012</td>\n",
       "      <td>1.000000</td>\n",
       "      <td>0.990912</td>\n",
       "      <td>NaN</td>\n",
       "      <td>0.449342</td>\n",
       "      <td>NaN</td>\n",
       "    </tr>\n",
       "    <tr>\n",
       "      <th>Order Item Discount</th>\n",
       "      <td>0.002408</td>\n",
       "      <td>0.003333</td>\n",
       "      <td>0.067105</td>\n",
       "      <td>0.510388</td>\n",
       "      <td>-0.001867</td>\n",
       "      <td>0.113305</td>\n",
       "      <td>0.047688</td>\n",
       "      <td>-0.002696</td>\n",
       "      <td>0.111896</td>\n",
       "      <td>-0.003800</td>\n",
       "      <td>...</td>\n",
       "      <td>-0.003049</td>\n",
       "      <td>0.108090</td>\n",
       "      <td>0.625684</td>\n",
       "      <td>0.510388</td>\n",
       "      <td>0.067105</td>\n",
       "      <td>0.117598</td>\n",
       "      <td>0.113305</td>\n",
       "      <td>NaN</td>\n",
       "      <td>0.343035</td>\n",
       "      <td>NaN</td>\n",
       "    </tr>\n",
       "    <tr>\n",
       "      <th>Order Item Discount Rate</th>\n",
       "      <td>0.001857</td>\n",
       "      <td>0.000359</td>\n",
       "      <td>-0.019009</td>\n",
       "      <td>-0.115907</td>\n",
       "      <td>0.000214</td>\n",
       "      <td>0.000593</td>\n",
       "      <td>0.002259</td>\n",
       "      <td>-0.000903</td>\n",
       "      <td>0.000260</td>\n",
       "      <td>-0.004757</td>\n",
       "      <td>...</td>\n",
       "      <td>-0.003017</td>\n",
       "      <td>-0.000021</td>\n",
       "      <td>0.000360</td>\n",
       "      <td>-0.115907</td>\n",
       "      <td>-0.019009</td>\n",
       "      <td>0.000762</td>\n",
       "      <td>0.000593</td>\n",
       "      <td>NaN</td>\n",
       "      <td>0.000175</td>\n",
       "      <td>NaN</td>\n",
       "    </tr>\n",
       "    <tr>\n",
       "      <th>Order Item Id</th>\n",
       "      <td>-0.001608</td>\n",
       "      <td>-0.001031</td>\n",
       "      <td>0.027907</td>\n",
       "      <td>0.176830</td>\n",
       "      <td>-0.001045</td>\n",
       "      <td>0.260655</td>\n",
       "      <td>0.197084</td>\n",
       "      <td>-0.001590</td>\n",
       "      <td>0.184709</td>\n",
       "      <td>-0.003793</td>\n",
       "      <td>...</td>\n",
       "      <td>0.002925</td>\n",
       "      <td>-0.149617</td>\n",
       "      <td>0.178565</td>\n",
       "      <td>0.176830</td>\n",
       "      <td>0.027907</td>\n",
       "      <td>0.232874</td>\n",
       "      <td>0.260655</td>\n",
       "      <td>NaN</td>\n",
       "      <td>0.235050</td>\n",
       "      <td>NaN</td>\n",
       "    </tr>\n",
       "    <tr>\n",
       "      <th>Order Item Product Price</th>\n",
       "      <td>0.001624</td>\n",
       "      <td>0.006809</td>\n",
       "      <td>0.102183</td>\n",
       "      <td>0.758674</td>\n",
       "      <td>-0.003844</td>\n",
       "      <td>0.426382</td>\n",
       "      <td>0.135392</td>\n",
       "      <td>0.002888</td>\n",
       "      <td>0.397490</td>\n",
       "      <td>0.001030</td>\n",
       "      <td>...</td>\n",
       "      <td>-0.001940</td>\n",
       "      <td>-0.445332</td>\n",
       "      <td>0.766309</td>\n",
       "      <td>0.758674</td>\n",
       "      <td>0.102183</td>\n",
       "      <td>0.440956</td>\n",
       "      <td>0.426382</td>\n",
       "      <td>NaN</td>\n",
       "      <td>0.842485</td>\n",
       "      <td>NaN</td>\n",
       "    </tr>\n",
       "    <tr>\n",
       "      <th>Order Item Profit Ratio</th>\n",
       "      <td>-0.003686</td>\n",
       "      <td>-0.001798</td>\n",
       "      <td>0.815038</td>\n",
       "      <td>-0.001224</td>\n",
       "      <td>-0.001650</td>\n",
       "      <td>-0.001580</td>\n",
       "      <td>-0.000684</td>\n",
       "      <td>0.002959</td>\n",
       "      <td>-0.003122</td>\n",
       "      <td>-0.000214</td>\n",
       "      <td>...</td>\n",
       "      <td>1.000000</td>\n",
       "      <td>0.001097</td>\n",
       "      <td>-0.001606</td>\n",
       "      <td>-0.001224</td>\n",
       "      <td>0.815038</td>\n",
       "      <td>-0.001755</td>\n",
       "      <td>-0.001580</td>\n",
       "      <td>NaN</td>\n",
       "      <td>-0.002945</td>\n",
       "      <td>NaN</td>\n",
       "    </tr>\n",
       "    <tr>\n",
       "      <th>Order Item Quantity</th>\n",
       "      <td>-0.000505</td>\n",
       "      <td>-0.002511</td>\n",
       "      <td>0.025314</td>\n",
       "      <td>0.172009</td>\n",
       "      <td>0.000312</td>\n",
       "      <td>-0.274743</td>\n",
       "      <td>-0.100814</td>\n",
       "      <td>-0.006678</td>\n",
       "      <td>-0.229837</td>\n",
       "      <td>-0.002120</td>\n",
       "      <td>...</td>\n",
       "      <td>0.001097</td>\n",
       "      <td>1.000000</td>\n",
       "      <td>0.173619</td>\n",
       "      <td>0.172009</td>\n",
       "      <td>0.025314</td>\n",
       "      <td>-0.282472</td>\n",
       "      <td>-0.274743</td>\n",
       "      <td>NaN</td>\n",
       "      <td>-0.567329</td>\n",
       "      <td>NaN</td>\n",
       "    </tr>\n",
       "    <tr>\n",
       "      <th>Sales</th>\n",
       "      <td>0.001497</td>\n",
       "      <td>0.006231</td>\n",
       "      <td>0.134483</td>\n",
       "      <td>0.990164</td>\n",
       "      <td>-0.004997</td>\n",
       "      <td>0.181414</td>\n",
       "      <td>0.073848</td>\n",
       "      <td>-0.001292</td>\n",
       "      <td>0.179175</td>\n",
       "      <td>-0.000350</td>\n",
       "      <td>...</td>\n",
       "      <td>-0.001606</td>\n",
       "      <td>0.173619</td>\n",
       "      <td>1.000000</td>\n",
       "      <td>0.990164</td>\n",
       "      <td>0.134483</td>\n",
       "      <td>0.188025</td>\n",
       "      <td>0.181414</td>\n",
       "      <td>NaN</td>\n",
       "      <td>0.549953</td>\n",
       "      <td>NaN</td>\n",
       "    </tr>\n",
       "    <tr>\n",
       "      <th>Order Item Total</th>\n",
       "      <td>0.001218</td>\n",
       "      <td>0.006272</td>\n",
       "      <td>0.136216</td>\n",
       "      <td>1.000000</td>\n",
       "      <td>-0.005174</td>\n",
       "      <td>0.179667</td>\n",
       "      <td>0.072856</td>\n",
       "      <td>-0.000941</td>\n",
       "      <td>0.177451</td>\n",
       "      <td>0.000295</td>\n",
       "      <td>...</td>\n",
       "      <td>-0.001224</td>\n",
       "      <td>0.172009</td>\n",
       "      <td>0.990164</td>\n",
       "      <td>1.000000</td>\n",
       "      <td>0.136216</td>\n",
       "      <td>0.186185</td>\n",
       "      <td>0.179667</td>\n",
       "      <td>NaN</td>\n",
       "      <td>0.544734</td>\n",
       "      <td>NaN</td>\n",
       "    </tr>\n",
       "    <tr>\n",
       "      <th>Order Profit Per Order</th>\n",
       "      <td>-0.003719</td>\n",
       "      <td>-0.000019</td>\n",
       "      <td>1.000000</td>\n",
       "      <td>0.136216</td>\n",
       "      <td>-0.002984</td>\n",
       "      <td>0.026365</td>\n",
       "      <td>0.010872</td>\n",
       "      <td>0.001648</td>\n",
       "      <td>0.024474</td>\n",
       "      <td>0.000162</td>\n",
       "      <td>...</td>\n",
       "      <td>0.815038</td>\n",
       "      <td>0.025314</td>\n",
       "      <td>0.134483</td>\n",
       "      <td>0.136216</td>\n",
       "      <td>1.000000</td>\n",
       "      <td>0.027012</td>\n",
       "      <td>0.026365</td>\n",
       "      <td>NaN</td>\n",
       "      <td>0.074366</td>\n",
       "      <td>NaN</td>\n",
       "    </tr>\n",
       "    <tr>\n",
       "      <th>Product Card Id</th>\n",
       "      <td>-0.001313</td>\n",
       "      <td>-0.001039</td>\n",
       "      <td>0.027012</td>\n",
       "      <td>0.186185</td>\n",
       "      <td>0.000980</td>\n",
       "      <td>0.990912</td>\n",
       "      <td>0.245257</td>\n",
       "      <td>0.003569</td>\n",
       "      <td>0.901384</td>\n",
       "      <td>0.002363</td>\n",
       "      <td>...</td>\n",
       "      <td>-0.001755</td>\n",
       "      <td>-0.282472</td>\n",
       "      <td>0.188025</td>\n",
       "      <td>0.186185</td>\n",
       "      <td>0.027012</td>\n",
       "      <td>1.000000</td>\n",
       "      <td>0.990912</td>\n",
       "      <td>NaN</td>\n",
       "      <td>0.449342</td>\n",
       "      <td>NaN</td>\n",
       "    </tr>\n",
       "    <tr>\n",
       "      <th>Product Category Id</th>\n",
       "      <td>-0.000733</td>\n",
       "      <td>-0.000913</td>\n",
       "      <td>0.026365</td>\n",
       "      <td>0.179667</td>\n",
       "      <td>0.001305</td>\n",
       "      <td>1.000000</td>\n",
       "      <td>0.292260</td>\n",
       "      <td>0.003244</td>\n",
       "      <td>0.884357</td>\n",
       "      <td>0.002505</td>\n",
       "      <td>...</td>\n",
       "      <td>-0.001580</td>\n",
       "      <td>-0.274743</td>\n",
       "      <td>0.181414</td>\n",
       "      <td>0.179667</td>\n",
       "      <td>0.026365</td>\n",
       "      <td>0.990912</td>\n",
       "      <td>1.000000</td>\n",
       "      <td>NaN</td>\n",
       "      <td>0.428050</td>\n",
       "      <td>NaN</td>\n",
       "    </tr>\n",
       "    <tr>\n",
       "      <th>Product Description</th>\n",
       "      <td>NaN</td>\n",
       "      <td>NaN</td>\n",
       "      <td>NaN</td>\n",
       "      <td>NaN</td>\n",
       "      <td>NaN</td>\n",
       "      <td>NaN</td>\n",
       "      <td>NaN</td>\n",
       "      <td>NaN</td>\n",
       "      <td>NaN</td>\n",
       "      <td>NaN</td>\n",
       "      <td>...</td>\n",
       "      <td>NaN</td>\n",
       "      <td>NaN</td>\n",
       "      <td>NaN</td>\n",
       "      <td>NaN</td>\n",
       "      <td>NaN</td>\n",
       "      <td>NaN</td>\n",
       "      <td>NaN</td>\n",
       "      <td>NaN</td>\n",
       "      <td>NaN</td>\n",
       "      <td>NaN</td>\n",
       "    </tr>\n",
       "    <tr>\n",
       "      <th>Product Price</th>\n",
       "      <td>-0.000321</td>\n",
       "      <td>0.002706</td>\n",
       "      <td>0.074366</td>\n",
       "      <td>0.544734</td>\n",
       "      <td>-0.002447</td>\n",
       "      <td>0.428050</td>\n",
       "      <td>0.091793</td>\n",
       "      <td>0.004583</td>\n",
       "      <td>0.378049</td>\n",
       "      <td>0.000844</td>\n",
       "      <td>...</td>\n",
       "      <td>-0.002945</td>\n",
       "      <td>-0.567329</td>\n",
       "      <td>0.549953</td>\n",
       "      <td>0.544734</td>\n",
       "      <td>0.074366</td>\n",
       "      <td>0.449342</td>\n",
       "      <td>0.428050</td>\n",
       "      <td>NaN</td>\n",
       "      <td>1.000000</td>\n",
       "      <td>NaN</td>\n",
       "    </tr>\n",
       "    <tr>\n",
       "      <th>Product Status</th>\n",
       "      <td>NaN</td>\n",
       "      <td>NaN</td>\n",
       "      <td>NaN</td>\n",
       "      <td>NaN</td>\n",
       "      <td>NaN</td>\n",
       "      <td>NaN</td>\n",
       "      <td>NaN</td>\n",
       "      <td>NaN</td>\n",
       "      <td>NaN</td>\n",
       "      <td>NaN</td>\n",
       "      <td>...</td>\n",
       "      <td>NaN</td>\n",
       "      <td>NaN</td>\n",
       "      <td>NaN</td>\n",
       "      <td>NaN</td>\n",
       "      <td>NaN</td>\n",
       "      <td>NaN</td>\n",
       "      <td>NaN</td>\n",
       "      <td>NaN</td>\n",
       "      <td>NaN</td>\n",
       "      <td>NaN</td>\n",
       "    </tr>\n",
       "  </tbody>\n",
       "</table>\n",
       "<p>28 rows × 28 columns</p>\n",
       "</div>"
      ],
      "text/plain": [
       "                               Days for shipping (real)  \\\n",
       "Days for shipping (real)                       1.000000   \n",
       "Days for shipment (scheduled)                  0.516465   \n",
       "Benefit per order                             -0.003719   \n",
       "Sales per customer                             0.001218   \n",
       "Late_delivery_risk                             0.400693   \n",
       "Category Id                                   -0.000733   \n",
       "Customer Id                                    0.003307   \n",
       "Customer Zipcode                              -0.000441   \n",
       "Department Id                                 -0.002164   \n",
       "Latitude                                      -0.004224   \n",
       "Longitude                                      0.004344   \n",
       "Order Customer Id                              0.003307   \n",
       "Order Id                                      -0.001543   \n",
       "Order Item Cardprod Id                        -0.001313   \n",
       "Order Item Discount                            0.002408   \n",
       "Order Item Discount Rate                       0.001857   \n",
       "Order Item Id                                 -0.001608   \n",
       "Order Item Product Price                       0.001624   \n",
       "Order Item Profit Ratio                       -0.003686   \n",
       "Order Item Quantity                           -0.000505   \n",
       "Sales                                          0.001497   \n",
       "Order Item Total                               0.001218   \n",
       "Order Profit Per Order                        -0.003719   \n",
       "Product Card Id                               -0.001313   \n",
       "Product Category Id                           -0.000733   \n",
       "Product Description                                 NaN   \n",
       "Product Price                                 -0.000321   \n",
       "Product Status                                      NaN   \n",
       "\n",
       "                               Days for shipment (scheduled)  \\\n",
       "Days for shipping (real)                            0.516465   \n",
       "Days for shipment (scheduled)                       1.000000   \n",
       "Benefit per order                                  -0.000019   \n",
       "Sales per customer                                  0.006272   \n",
       "Late_delivery_risk                                 -0.369298   \n",
       "Category Id                                        -0.000913   \n",
       "Customer Id                                         0.000634   \n",
       "Customer Zipcode                                   -0.003373   \n",
       "Department Id                                      -0.000977   \n",
       "Latitude                                           -0.005990   \n",
       "Longitude                                           0.003844   \n",
       "Order Customer Id                                   0.000634   \n",
       "Order Id                                           -0.001067   \n",
       "Order Item Cardprod Id                             -0.001039   \n",
       "Order Item Discount                                 0.003333   \n",
       "Order Item Discount Rate                            0.000359   \n",
       "Order Item Id                                      -0.001031   \n",
       "Order Item Product Price                            0.006809   \n",
       "Order Item Profit Ratio                            -0.001798   \n",
       "Order Item Quantity                                -0.002511   \n",
       "Sales                                               0.006231   \n",
       "Order Item Total                                    0.006272   \n",
       "Order Profit Per Order                             -0.000019   \n",
       "Product Card Id                                    -0.001039   \n",
       "Product Category Id                                -0.000913   \n",
       "Product Description                                      NaN   \n",
       "Product Price                                       0.002706   \n",
       "Product Status                                           NaN   \n",
       "\n",
       "                               Benefit per order  Sales per customer  \\\n",
       "Days for shipping (real)               -0.003719            0.001218   \n",
       "Days for shipment (scheduled)          -0.000019            0.006272   \n",
       "Benefit per order                       1.000000            0.136216   \n",
       "Sales per customer                      0.136216            1.000000   \n",
       "Late_delivery_risk                     -0.002984           -0.005174   \n",
       "Category Id                             0.026365            0.179667   \n",
       "Customer Id                             0.010872            0.072856   \n",
       "Customer Zipcode                        0.001648           -0.000941   \n",
       "Department Id                           0.024474            0.177451   \n",
       "Latitude                                0.000162            0.000295   \n",
       "Longitude                              -0.001970            0.001043   \n",
       "Order Customer Id                       0.010872            0.072856   \n",
       "Order Id                                0.028014            0.177225   \n",
       "Order Item Cardprod Id                  0.027012            0.186185   \n",
       "Order Item Discount                     0.067105            0.510388   \n",
       "Order Item Discount Rate               -0.019009           -0.115907   \n",
       "Order Item Id                           0.027907            0.176830   \n",
       "Order Item Product Price                0.102183            0.758674   \n",
       "Order Item Profit Ratio                 0.815038           -0.001224   \n",
       "Order Item Quantity                     0.025314            0.172009   \n",
       "Sales                                   0.134483            0.990164   \n",
       "Order Item Total                        0.136216            1.000000   \n",
       "Order Profit Per Order                  1.000000            0.136216   \n",
       "Product Card Id                         0.027012            0.186185   \n",
       "Product Category Id                     0.026365            0.179667   \n",
       "Product Description                          NaN                 NaN   \n",
       "Product Price                           0.074366            0.544734   \n",
       "Product Status                               NaN                 NaN   \n",
       "\n",
       "                               Late_delivery_risk  Category Id  Customer Id  \\\n",
       "Days for shipping (real)                 0.400693    -0.000733     0.003307   \n",
       "Days for shipment (scheduled)           -0.369298    -0.000913     0.000634   \n",
       "Benefit per order                       -0.002984     0.026365     0.010872   \n",
       "Sales per customer                      -0.005174     0.179667     0.072856   \n",
       "Late_delivery_risk                       1.000000     0.001305     0.001174   \n",
       "Category Id                              0.001305     1.000000     0.292260   \n",
       "Customer Id                              0.001174     0.292260     1.000000   \n",
       "Customer Zipcode                         0.002241     0.003244     0.001626   \n",
       "Department Id                            0.000574     0.884357     0.151176   \n",
       "Latitude                                 0.000484     0.002505     0.002710   \n",
       "Longitude                               -0.000962    -0.002648    -0.004970   \n",
       "Order Customer Id                        0.001173     0.292260     1.000000   \n",
       "Order Id                                -0.000956     0.272749     0.210977   \n",
       "Order Item Cardprod Id                   0.000980     0.990912     0.245257   \n",
       "Order Item Discount                     -0.001867     0.113305     0.047688   \n",
       "Order Item Discount Rate                 0.000214     0.000593     0.002259   \n",
       "Order Item Id                           -0.001045     0.260655     0.197084   \n",
       "Order Item Product Price                -0.003844     0.426382     0.135392   \n",
       "Order Item Profit Ratio                 -0.001650    -0.001580    -0.000684   \n",
       "Order Item Quantity                      0.000312    -0.274743    -0.100814   \n",
       "Sales                                   -0.004997     0.181414     0.073848   \n",
       "Order Item Total                        -0.005174     0.179667     0.072856   \n",
       "Order Profit Per Order                  -0.002984     0.026365     0.010872   \n",
       "Product Card Id                          0.000980     0.990912     0.245257   \n",
       "Product Category Id                      0.001305     1.000000     0.292260   \n",
       "Product Description                           NaN          NaN          NaN   \n",
       "Product Price                           -0.002447     0.428050     0.091793   \n",
       "Product Status                                NaN          NaN          NaN   \n",
       "\n",
       "                               Customer Zipcode  Department Id  Latitude  ...  \\\n",
       "Days for shipping (real)              -0.000441      -0.002164 -0.004224  ...   \n",
       "Days for shipment (scheduled)         -0.003373      -0.000977 -0.005990  ...   \n",
       "Benefit per order                      0.001648       0.024474  0.000162  ...   \n",
       "Sales per customer                    -0.000941       0.177451  0.000295  ...   \n",
       "Late_delivery_risk                     0.002241       0.000574  0.000484  ...   \n",
       "Category Id                            0.003244       0.884357  0.002505  ...   \n",
       "Customer Id                            0.001626       0.151176  0.002710  ...   \n",
       "Customer Zipcode                       1.000000       0.003292  0.584613  ...   \n",
       "Department Id                          0.003292       1.000000  0.002827  ...   \n",
       "Latitude                               0.584613       0.002827  1.000000  ...   \n",
       "Longitude                             -0.923689      -0.002826 -0.525102  ...   \n",
       "Order Customer Id                      0.001626       0.151176  0.002710  ...   \n",
       "Order Id                              -0.001590       0.189754 -0.003708  ...   \n",
       "Order Item Cardprod Id                 0.003569       0.901384  0.002363  ...   \n",
       "Order Item Discount                   -0.002696       0.111896 -0.003800  ...   \n",
       "Order Item Discount Rate              -0.000903       0.000260 -0.004757  ...   \n",
       "Order Item Id                         -0.001590       0.184709 -0.003793  ...   \n",
       "Order Item Product Price               0.002888       0.397490  0.001030  ...   \n",
       "Order Item Profit Ratio                0.002959      -0.003122 -0.000214  ...   \n",
       "Order Item Quantity                   -0.006678      -0.229837 -0.002120  ...   \n",
       "Sales                                 -0.001292       0.179175 -0.000350  ...   \n",
       "Order Item Total                      -0.000941       0.177451  0.000295  ...   \n",
       "Order Profit Per Order                 0.001648       0.024474  0.000162  ...   \n",
       "Product Card Id                        0.003569       0.901384  0.002363  ...   \n",
       "Product Category Id                    0.003244       0.884357  0.002505  ...   \n",
       "Product Description                         NaN            NaN       NaN  ...   \n",
       "Product Price                          0.004583       0.378049  0.000844  ...   \n",
       "Product Status                              NaN            NaN       NaN  ...   \n",
       "\n",
       "                               Order Item Profit Ratio  Order Item Quantity  \\\n",
       "Days for shipping (real)                     -0.003686            -0.000505   \n",
       "Days for shipment (scheduled)                -0.001798            -0.002511   \n",
       "Benefit per order                             0.815038             0.025314   \n",
       "Sales per customer                           -0.001224             0.172009   \n",
       "Late_delivery_risk                           -0.001650             0.000312   \n",
       "Category Id                                  -0.001580            -0.274743   \n",
       "Customer Id                                  -0.000684            -0.100814   \n",
       "Customer Zipcode                              0.002959            -0.006678   \n",
       "Department Id                                -0.003122            -0.229837   \n",
       "Latitude                                     -0.000214            -0.002120   \n",
       "Longitude                                    -0.003163             0.004886   \n",
       "Order Customer Id                            -0.000684            -0.100814   \n",
       "Order Id                                      0.002897            -0.152927   \n",
       "Order Item Cardprod Id                       -0.001755            -0.282472   \n",
       "Order Item Discount                          -0.003049             0.108090   \n",
       "Order Item Discount Rate                     -0.003017            -0.000021   \n",
       "Order Item Id                                 0.002925            -0.149617   \n",
       "Order Item Product Price                     -0.001940            -0.445332   \n",
       "Order Item Profit Ratio                       1.000000             0.001097   \n",
       "Order Item Quantity                           0.001097             1.000000   \n",
       "Sales                                        -0.001606             0.173619   \n",
       "Order Item Total                             -0.001224             0.172009   \n",
       "Order Profit Per Order                        0.815038             0.025314   \n",
       "Product Card Id                              -0.001755            -0.282472   \n",
       "Product Category Id                          -0.001580            -0.274743   \n",
       "Product Description                                NaN                  NaN   \n",
       "Product Price                                -0.002945            -0.567329   \n",
       "Product Status                                     NaN                  NaN   \n",
       "\n",
       "                                  Sales  Order Item Total  \\\n",
       "Days for shipping (real)       0.001497          0.001218   \n",
       "Days for shipment (scheduled)  0.006231          0.006272   \n",
       "Benefit per order              0.134483          0.136216   \n",
       "Sales per customer             0.990164          1.000000   \n",
       "Late_delivery_risk            -0.004997         -0.005174   \n",
       "Category Id                    0.181414          0.179667   \n",
       "Customer Id                    0.073848          0.072856   \n",
       "Customer Zipcode              -0.001292         -0.000941   \n",
       "Department Id                  0.179175          0.177451   \n",
       "Latitude                      -0.000350          0.000295   \n",
       "Longitude                      0.001459          0.001043   \n",
       "Order Customer Id              0.073848          0.072856   \n",
       "Order Id                       0.178965          0.177225   \n",
       "Order Item Cardprod Id         0.188025          0.186185   \n",
       "Order Item Discount            0.625684          0.510388   \n",
       "Order Item Discount Rate       0.000360         -0.115907   \n",
       "Order Item Id                  0.178565          0.176830   \n",
       "Order Item Product Price       0.766309          0.758674   \n",
       "Order Item Profit Ratio       -0.001606         -0.001224   \n",
       "Order Item Quantity            0.173619          0.172009   \n",
       "Sales                          1.000000          0.990164   \n",
       "Order Item Total               0.990164          1.000000   \n",
       "Order Profit Per Order         0.134483          0.136216   \n",
       "Product Card Id                0.188025          0.186185   \n",
       "Product Category Id            0.181414          0.179667   \n",
       "Product Description                 NaN               NaN   \n",
       "Product Price                  0.549953          0.544734   \n",
       "Product Status                      NaN               NaN   \n",
       "\n",
       "                               Order Profit Per Order  Product Card Id  \\\n",
       "Days for shipping (real)                    -0.003719        -0.001313   \n",
       "Days for shipment (scheduled)               -0.000019        -0.001039   \n",
       "Benefit per order                            1.000000         0.027012   \n",
       "Sales per customer                           0.136216         0.186185   \n",
       "Late_delivery_risk                          -0.002984         0.000980   \n",
       "Category Id                                  0.026365         0.990912   \n",
       "Customer Id                                  0.010872         0.245257   \n",
       "Customer Zipcode                             0.001648         0.003569   \n",
       "Department Id                                0.024474         0.901384   \n",
       "Latitude                                     0.000162         0.002363   \n",
       "Longitude                                   -0.001970        -0.002955   \n",
       "Order Customer Id                            0.010872         0.245257   \n",
       "Order Id                                     0.028014         0.242471   \n",
       "Order Item Cardprod Id                       0.027012         1.000000   \n",
       "Order Item Discount                          0.067105         0.117598   \n",
       "Order Item Discount Rate                    -0.019009         0.000762   \n",
       "Order Item Id                                0.027907         0.232874   \n",
       "Order Item Product Price                     0.102183         0.440956   \n",
       "Order Item Profit Ratio                      0.815038        -0.001755   \n",
       "Order Item Quantity                          0.025314        -0.282472   \n",
       "Sales                                        0.134483         0.188025   \n",
       "Order Item Total                             0.136216         0.186185   \n",
       "Order Profit Per Order                       1.000000         0.027012   \n",
       "Product Card Id                              0.027012         1.000000   \n",
       "Product Category Id                          0.026365         0.990912   \n",
       "Product Description                               NaN              NaN   \n",
       "Product Price                                0.074366         0.449342   \n",
       "Product Status                                    NaN              NaN   \n",
       "\n",
       "                               Product Category Id  Product Description  \\\n",
       "Days for shipping (real)                 -0.000733                  NaN   \n",
       "Days for shipment (scheduled)            -0.000913                  NaN   \n",
       "Benefit per order                         0.026365                  NaN   \n",
       "Sales per customer                        0.179667                  NaN   \n",
       "Late_delivery_risk                        0.001305                  NaN   \n",
       "Category Id                               1.000000                  NaN   \n",
       "Customer Id                               0.292260                  NaN   \n",
       "Customer Zipcode                          0.003244                  NaN   \n",
       "Department Id                             0.884357                  NaN   \n",
       "Latitude                                  0.002505                  NaN   \n",
       "Longitude                                -0.002648                  NaN   \n",
       "Order Customer Id                         0.292260                  NaN   \n",
       "Order Id                                  0.272749                  NaN   \n",
       "Order Item Cardprod Id                    0.990912                  NaN   \n",
       "Order Item Discount                       0.113305                  NaN   \n",
       "Order Item Discount Rate                  0.000593                  NaN   \n",
       "Order Item Id                             0.260655                  NaN   \n",
       "Order Item Product Price                  0.426382                  NaN   \n",
       "Order Item Profit Ratio                  -0.001580                  NaN   \n",
       "Order Item Quantity                      -0.274743                  NaN   \n",
       "Sales                                     0.181414                  NaN   \n",
       "Order Item Total                          0.179667                  NaN   \n",
       "Order Profit Per Order                    0.026365                  NaN   \n",
       "Product Card Id                           0.990912                  NaN   \n",
       "Product Category Id                       1.000000                  NaN   \n",
       "Product Description                            NaN                  NaN   \n",
       "Product Price                             0.428050                  NaN   \n",
       "Product Status                                 NaN                  NaN   \n",
       "\n",
       "                               Product Price  Product Status  \n",
       "Days for shipping (real)           -0.000321             NaN  \n",
       "Days for shipment (scheduled)       0.002706             NaN  \n",
       "Benefit per order                   0.074366             NaN  \n",
       "Sales per customer                  0.544734             NaN  \n",
       "Late_delivery_risk                 -0.002447             NaN  \n",
       "Category Id                         0.428050             NaN  \n",
       "Customer Id                         0.091793             NaN  \n",
       "Customer Zipcode                    0.004583             NaN  \n",
       "Department Id                       0.378049             NaN  \n",
       "Latitude                            0.000844             NaN  \n",
       "Longitude                          -0.003389             NaN  \n",
       "Order Customer Id                   0.091793             NaN  \n",
       "Order Id                            0.236521             NaN  \n",
       "Order Item Cardprod Id              0.449342             NaN  \n",
       "Order Item Discount                 0.343035             NaN  \n",
       "Order Item Discount Rate            0.000175             NaN  \n",
       "Order Item Id                       0.235050             NaN  \n",
       "Order Item Product Price            0.842485             NaN  \n",
       "Order Item Profit Ratio            -0.002945             NaN  \n",
       "Order Item Quantity                -0.567329             NaN  \n",
       "Sales                               0.549953             NaN  \n",
       "Order Item Total                    0.544734             NaN  \n",
       "Order Profit Per Order              0.074366             NaN  \n",
       "Product Card Id                     0.449342             NaN  \n",
       "Product Category Id                 0.428050             NaN  \n",
       "Product Description                      NaN             NaN  \n",
       "Product Price                       1.000000             NaN  \n",
       "Product Status                           NaN             NaN  \n",
       "\n",
       "[28 rows x 28 columns]"
      ]
     },
     "execution_count": 18,
     "metadata": {},
     "output_type": "execute_result"
    }
   ],
   "source": [
    "df.corr()"
   ]
  },
  {
   "cell_type": "code",
   "execution_count": 20,
   "id": "9156aa71",
   "metadata": {},
   "outputs": [
    {
     "name": "stdout",
     "output_type": "stream",
     "text": [
      "[1 2 3 4 5]\n",
      "<class 'numpy.ndarray'>\n"
     ]
    }
   ],
   "source": [
    "import numpy as np\n",
    "arr = np.array([1, 2, 3, 4, 5])\n",
    "\n",
    "print(arr)\n",
    "print(type(arr))\n"
   ]
  },
  {
   "cell_type": "code",
   "execution_count": 21,
   "id": "f47448c4",
   "metadata": {},
   "outputs": [
    {
     "name": "stdout",
     "output_type": "stream",
     "text": [
      "[[1 2 3]\n",
      " [4 5 6]]\n",
      "<class 'numpy.ndarray'>\n"
     ]
    }
   ],
   "source": [
    "arr = np.array([[1, 2, 3], [4, 5, 6]])\n",
    "\n",
    "print(arr)\n",
    "print(type(arr))"
   ]
  },
  {
   "cell_type": "code",
   "execution_count": 22,
   "id": "cbaac2dd",
   "metadata": {},
   "outputs": [
    {
     "name": "stdout",
     "output_type": "stream",
     "text": [
      "[[[1 2 3]\n",
      "  [4 5 6]]\n",
      "\n",
      " [[1 2 3]\n",
      "  [4 5 6]]]\n"
     ]
    }
   ],
   "source": [
    "arr = np.array([[[1, 2, 3], [4, 5, 6]], [[1, 2, 3], [4, 5, 6]]])\n",
    "\n",
    "print(arr)"
   ]
  },
  {
   "cell_type": "code",
   "execution_count": 23,
   "id": "9ddb6cd2",
   "metadata": {},
   "outputs": [
    {
     "name": "stdout",
     "output_type": "stream",
     "text": [
      "0\n",
      "1\n",
      "2\n",
      "3\n"
     ]
    }
   ],
   "source": [
    "a = np.array(42)\n",
    "b = np.array([1, 2, 3, 4, 5])\n",
    "c = np.array([[1, 2, 3], [4, 5, 6]])\n",
    "d = np.array([[[1, 2, 3], [4, 5, 6]], [[1, 2, 3], [4, 5, 6]]])\n",
    "\n",
    "print(a.ndim)\n",
    "print(b.ndim)\n",
    "print(c.ndim)\n",
    "print(d.ndim)"
   ]
  },
  {
   "cell_type": "code",
   "execution_count": 24,
   "id": "9267caf4",
   "metadata": {},
   "outputs": [
    {
     "name": "stdout",
     "output_type": "stream",
     "text": [
      "2\n"
     ]
    }
   ],
   "source": [
    "arr = np.array([1, 2, 3, 4])\n",
    "\n",
    "print(arr[1])"
   ]
  },
  {
   "cell_type": "code",
   "execution_count": 25,
   "id": "f8e50e7f",
   "metadata": {},
   "outputs": [
    {
     "name": "stdout",
     "output_type": "stream",
     "text": [
      "7\n"
     ]
    }
   ],
   "source": [
    "print(arr[2] +arr[3])"
   ]
  },
  {
   "cell_type": "code",
   "execution_count": 26,
   "id": "7d95dc1f",
   "metadata": {},
   "outputs": [
    {
     "name": "stdout",
     "output_type": "stream",
     "text": [
      "6\n"
     ]
    }
   ],
   "source": [
    "arr = np.array([[[1, 2, 3], [4, 5, 6]], [[7, 8, 9], [10, 11, 12]]])\n",
    "\n",
    "print(arr[0, 1, 2])"
   ]
  },
  {
   "cell_type": "code",
   "execution_count": 27,
   "id": "d0ab018e",
   "metadata": {},
   "outputs": [
    {
     "name": "stdout",
     "output_type": "stream",
     "text": [
      "[5 6 7]\n",
      "[1 2 3 4]\n"
     ]
    }
   ],
   "source": [
    "arr = np.array([1, 2, 3, 4, 5, 6, 7])\n",
    "\n",
    "print(arr[4:])\n",
    "print(arr[:4])"
   ]
  },
  {
   "cell_type": "code",
   "execution_count": 28,
   "id": "2fd057cf",
   "metadata": {},
   "outputs": [
    {
     "name": "stdout",
     "output_type": "stream",
     "text": [
      "[2 4]\n"
     ]
    }
   ],
   "source": [
    "arr = np.array([1, 2, 3, 4, 5, 6, 7])\n",
    "print(arr[1:5:2])"
   ]
  },
  {
   "cell_type": "code",
   "execution_count": 29,
   "id": "d2000489",
   "metadata": {},
   "outputs": [
    {
     "name": "stdout",
     "output_type": "stream",
     "text": [
      "[7 8 9]\n"
     ]
    }
   ],
   "source": [
    "arr = np.array([[1, 2, 3, 4, 5], [6, 7, 8, 9, 10]])\n",
    "print(arr[1, 1:4])"
   ]
  },
  {
   "cell_type": "code",
   "execution_count": 30,
   "id": "693c739b",
   "metadata": {},
   "outputs": [
    {
     "name": "stdout",
     "output_type": "stream",
     "text": [
      "2\n"
     ]
    }
   ],
   "source": [
    "from numpy import random\n",
    "\n",
    "x = random.randint(100)\n",
    "\n",
    "print(x)"
   ]
  },
  {
   "cell_type": "code",
   "execution_count": 31,
   "id": "e6b557cb",
   "metadata": {},
   "outputs": [
    {
     "name": "stdout",
     "output_type": "stream",
     "text": [
      "89\n"
     ]
    }
   ],
   "source": [
    "x = random.randint(100)\n",
    "\n",
    "print(x)"
   ]
  },
  {
   "cell_type": "code",
   "execution_count": 32,
   "id": "33594d57",
   "metadata": {},
   "outputs": [
    {
     "name": "stdout",
     "output_type": "stream",
     "text": [
      "4\n"
     ]
    }
   ],
   "source": [
    "x = random.randint(100)\n",
    "\n",
    "print(x)"
   ]
  },
  {
   "cell_type": "code",
   "execution_count": 33,
   "id": "0746e348",
   "metadata": {},
   "outputs": [
    {
     "name": "stdout",
     "output_type": "stream",
     "text": [
      "38\n"
     ]
    }
   ],
   "source": [
    "x = random.randint(100)\n",
    "\n",
    "print(x)"
   ]
  },
  {
   "cell_type": "code",
   "execution_count": 34,
   "id": "28b720b7",
   "metadata": {},
   "outputs": [
    {
     "name": "stdout",
     "output_type": "stream",
     "text": [
      "52\n"
     ]
    }
   ],
   "source": [
    "x = random.randint(100)\n",
    "\n",
    "print(x)"
   ]
  },
  {
   "cell_type": "code",
   "execution_count": 35,
   "id": "b19127e0",
   "metadata": {},
   "outputs": [
    {
     "name": "stdout",
     "output_type": "stream",
     "text": [
      "37\n"
     ]
    }
   ],
   "source": [
    "x = random.randint(100)\n",
    "\n",
    "print(x)"
   ]
  },
  {
   "cell_type": "code",
   "execution_count": 36,
   "id": "71486e42",
   "metadata": {},
   "outputs": [
    {
     "name": "stdout",
     "output_type": "stream",
     "text": [
      "86\n"
     ]
    }
   ],
   "source": [
    "x = random.randint(100)\n",
    "\n",
    "print(x)"
   ]
  },
  {
   "cell_type": "code",
   "execution_count": 37,
   "id": "3ad8cd9a",
   "metadata": {},
   "outputs": [
    {
     "name": "stdout",
     "output_type": "stream",
     "text": [
      "83\n"
     ]
    }
   ],
   "source": [
    "x = random.randint(100)\n",
    "\n",
    "print(x)"
   ]
  },
  {
   "cell_type": "code",
   "execution_count": 38,
   "id": "6f142802",
   "metadata": {},
   "outputs": [
    {
     "name": "stdout",
     "output_type": "stream",
     "text": [
      "17\n"
     ]
    }
   ],
   "source": [
    "x = random.randint(100)\n",
    "\n",
    "print(x)"
   ]
  },
  {
   "cell_type": "code",
   "execution_count": 39,
   "id": "f9b7629a",
   "metadata": {},
   "outputs": [
    {
     "name": "stdout",
     "output_type": "stream",
     "text": [
      "2\n"
     ]
    }
   ],
   "source": [
    "x = random.randint(100)\n",
    "\n",
    "print(x)"
   ]
  },
  {
   "cell_type": "code",
   "execution_count": 40,
   "id": "9f46687a",
   "metadata": {},
   "outputs": [
    {
     "name": "stdout",
     "output_type": "stream",
     "text": [
      "75\n"
     ]
    }
   ],
   "source": [
    "x = random.randint(100)\n",
    "\n",
    "print(x)"
   ]
  },
  {
   "cell_type": "code",
   "execution_count": 41,
   "id": "f7898f13",
   "metadata": {},
   "outputs": [
    {
     "name": "stdout",
     "output_type": "stream",
     "text": [
      "88\n"
     ]
    }
   ],
   "source": [
    "x = random.randint(100)\n",
    "\n",
    "print(x)"
   ]
  },
  {
   "cell_type": "code",
   "execution_count": 42,
   "id": "1be1b2e8",
   "metadata": {},
   "outputs": [
    {
     "name": "stdout",
     "output_type": "stream",
     "text": [
      "44\n"
     ]
    }
   ],
   "source": [
    "x = random.randint(100)\n",
    "\n",
    "print(x)"
   ]
  },
  {
   "cell_type": "code",
   "execution_count": 43,
   "id": "8b3d8684",
   "metadata": {},
   "outputs": [
    {
     "name": "stdout",
     "output_type": "stream",
     "text": [
      "41\n"
     ]
    }
   ],
   "source": [
    "x = random.randint(100)\n",
    "\n",
    "print(x)"
   ]
  },
  {
   "cell_type": "code",
   "execution_count": 44,
   "id": "a6408894",
   "metadata": {},
   "outputs": [
    {
     "name": "stdout",
     "output_type": "stream",
     "text": [
      "30\n"
     ]
    }
   ],
   "source": [
    "x = random.randint(100)\n",
    "\n",
    "print(x)"
   ]
  },
  {
   "cell_type": "code",
   "execution_count": 45,
   "id": "9db5a709",
   "metadata": {},
   "outputs": [
    {
     "name": "stdout",
     "output_type": "stream",
     "text": [
      "67\n"
     ]
    }
   ],
   "source": [
    "x = random.randint(100)\n",
    "\n",
    "print(x)"
   ]
  },
  {
   "cell_type": "code",
   "execution_count": 46,
   "id": "086c598b",
   "metadata": {},
   "outputs": [
    {
     "name": "stdout",
     "output_type": "stream",
     "text": [
      "77\n"
     ]
    }
   ],
   "source": [
    "x = random.randint(100)\n",
    "\n",
    "print(x)"
   ]
  },
  {
   "cell_type": "code",
   "execution_count": 47,
   "id": "c1896806",
   "metadata": {},
   "outputs": [
    {
     "name": "stdout",
     "output_type": "stream",
     "text": [
      "84\n"
     ]
    }
   ],
   "source": [
    "x = random.randint(100)\n",
    "\n",
    "print(x)"
   ]
  },
  {
   "cell_type": "code",
   "execution_count": 48,
   "id": "5dd917cf",
   "metadata": {},
   "outputs": [
    {
     "name": "stdout",
     "output_type": "stream",
     "text": [
      "23\n"
     ]
    }
   ],
   "source": [
    "x = random.randint(100)\n",
    "\n",
    "print(x)"
   ]
  },
  {
   "cell_type": "code",
   "execution_count": 49,
   "id": "38cc24cf",
   "metadata": {},
   "outputs": [
    {
     "name": "stdout",
     "output_type": "stream",
     "text": [
      "15\n"
     ]
    }
   ],
   "source": [
    "x = random.randint(100)\n",
    "\n",
    "print(x)"
   ]
  },
  {
   "cell_type": "code",
   "execution_count": 50,
   "id": "a01b7191",
   "metadata": {},
   "outputs": [
    {
     "name": "stdout",
     "output_type": "stream",
     "text": [
      "92\n"
     ]
    }
   ],
   "source": [
    "x = random.randint(100)\n",
    "\n",
    "print(x)"
   ]
  },
  {
   "cell_type": "code",
   "execution_count": 51,
   "id": "90c0b629",
   "metadata": {},
   "outputs": [
    {
     "name": "stdout",
     "output_type": "stream",
     "text": [
      "55\n"
     ]
    }
   ],
   "source": [
    "x = random.randint(100)\n",
    "\n",
    "print(x)"
   ]
  },
  {
   "cell_type": "code",
   "execution_count": 52,
   "id": "a089c795",
   "metadata": {},
   "outputs": [
    {
     "name": "stdout",
     "output_type": "stream",
     "text": [
      "27\n"
     ]
    }
   ],
   "source": [
    "x = random.randint(100)\n",
    "\n",
    "print(x)"
   ]
  },
  {
   "cell_type": "code",
   "execution_count": 53,
   "id": "ee6968ae",
   "metadata": {},
   "outputs": [
    {
     "name": "stdout",
     "output_type": "stream",
     "text": [
      "63\n"
     ]
    }
   ],
   "source": [
    "x = random.randint(100)\n",
    "\n",
    "print(x)"
   ]
  },
  {
   "cell_type": "code",
   "execution_count": 54,
   "id": "56bfbf35",
   "metadata": {},
   "outputs": [
    {
     "name": "stdout",
     "output_type": "stream",
     "text": [
      "3\n"
     ]
    }
   ],
   "source": [
    "x = random.randint(100)\n",
    "\n",
    "print(x)"
   ]
  },
  {
   "cell_type": "code",
   "execution_count": 55,
   "id": "a377332e",
   "metadata": {},
   "outputs": [
    {
     "name": "stdout",
     "output_type": "stream",
     "text": [
      "37\n"
     ]
    }
   ],
   "source": [
    "x = random.randint(100)\n",
    "\n",
    "print(x)"
   ]
  },
  {
   "cell_type": "code",
   "execution_count": 56,
   "id": "617d7410",
   "metadata": {},
   "outputs": [
    {
     "name": "stdout",
     "output_type": "stream",
     "text": [
      "47\n"
     ]
    }
   ],
   "source": [
    "x = random.randint(100)\n",
    "\n",
    "print(x)"
   ]
  },
  {
   "cell_type": "code",
   "execution_count": 57,
   "id": "1cb0773f",
   "metadata": {},
   "outputs": [
    {
     "name": "stdout",
     "output_type": "stream",
     "text": [
      "14\n"
     ]
    }
   ],
   "source": [
    "x = random.randint(100)\n",
    "\n",
    "print(x)"
   ]
  },
  {
   "cell_type": "code",
   "execution_count": 58,
   "id": "7229cf12",
   "metadata": {},
   "outputs": [
    {
     "name": "stdout",
     "output_type": "stream",
     "text": [
      "13\n"
     ]
    }
   ],
   "source": [
    "x = random.randint(100)\n",
    "\n",
    "print(x)"
   ]
  },
  {
   "cell_type": "code",
   "execution_count": 59,
   "id": "00169e4f",
   "metadata": {},
   "outputs": [
    {
     "name": "stdout",
     "output_type": "stream",
     "text": [
      "58\n"
     ]
    }
   ],
   "source": [
    "x = random.randint(100)\n",
    "\n",
    "print(x)"
   ]
  },
  {
   "cell_type": "code",
   "execution_count": 60,
   "id": "ba1af0f8",
   "metadata": {},
   "outputs": [
    {
     "name": "stdout",
     "output_type": "stream",
     "text": [
      "42\n"
     ]
    }
   ],
   "source": [
    "x = random.randint(100)\n",
    "\n",
    "print(x)"
   ]
  },
  {
   "cell_type": "code",
   "execution_count": 61,
   "id": "a787b329",
   "metadata": {},
   "outputs": [
    {
     "name": "stdout",
     "output_type": "stream",
     "text": [
      "92\n"
     ]
    }
   ],
   "source": [
    "x = random.randint(100)\n",
    "\n",
    "print(x)"
   ]
  },
  {
   "cell_type": "code",
   "execution_count": 62,
   "id": "f8b9c170",
   "metadata": {},
   "outputs": [
    {
     "name": "stdout",
     "output_type": "stream",
     "text": [
      "0.4614806875556151\n"
     ]
    }
   ],
   "source": [
    "from numpy import random\n",
    "\n",
    "x = random.rand()\n",
    "\n",
    "print(x)"
   ]
  },
  {
   "cell_type": "code",
   "execution_count": 64,
   "id": "4a8c4d85",
   "metadata": {},
   "outputs": [
    {
     "name": "stdout",
     "output_type": "stream",
     "text": [
      "[[34 50 53 73 33]\n",
      " [43 59 54 15 84]\n",
      " [96  5 26 65 49]]\n"
     ]
    }
   ],
   "source": [
    "from numpy import random\n",
    "\n",
    "x = random.randint(100, size=(3, 5))\n",
    "\n",
    "print(x)"
   ]
  },
  {
   "cell_type": "code",
   "execution_count": 66,
   "id": "af8140d1",
   "metadata": {},
   "outputs": [
    {
     "name": "stdout",
     "output_type": "stream",
     "text": [
      "[7 7 7 5 5 7 3 7 7 7 3 7 5 5 5 7 5 7 7 7 7 3 7 7 7 7 7 7 7 5 7 7 7 7 5 7 3\n",
      " 7 5 7 7 5 7 7 5 5 5 7 7 5 7 7 7 7 5 5 5 7 7 7 7 7 5 7 7 5 7 5 7 7 5 7 7 7\n",
      " 7 5 3 7 5 7 7 3 7 7 7 7 5 7 7 7 7 7 7 5 7 7 7 7 7 5]\n"
     ]
    }
   ],
   "source": [
    "x = random.choice([3, 5, 7, 9], p=[0.1, 0.3, 0.6, 0.0], size=(100))\n",
    "\n",
    "print(x)"
   ]
  },
  {
   "cell_type": "code",
   "execution_count": 67,
   "id": "1823d0d8",
   "metadata": {},
   "outputs": [
    {
     "name": "stdout",
     "output_type": "stream",
     "text": [
      "[1 5 3 2 4]\n"
     ]
    }
   ],
   "source": [
    "arr = np.array([1, 2, 3, 4, 5])\n",
    "\n",
    "random.shuffle(arr)\n",
    "print(arr)"
   ]
  },
  {
   "cell_type": "code",
   "execution_count": 68,
   "id": "28460fcf",
   "metadata": {},
   "outputs": [
    {
     "name": "stdout",
     "output_type": "stream",
     "text": [
      "[[ 3.67407679  2.19378542 -0.12483363]\n",
      " [ 4.09857695 -2.51058438 -1.54441453]]\n"
     ]
    }
   ],
   "source": [
    "x = random.normal(loc=1, scale=2, size=(2, 3))\n",
    "print(x)"
   ]
  },
  {
   "cell_type": "code",
   "execution_count": null,
   "id": "b77cd8ef",
   "metadata": {},
   "outputs": [],
   "source": []
  }
 ],
 "metadata": {
  "kernelspec": {
   "display_name": "Python 3 (ipykernel)",
   "language": "python",
   "name": "python3"
  },
  "language_info": {
   "codemirror_mode": {
    "name": "ipython",
    "version": 3
   },
   "file_extension": ".py",
   "mimetype": "text/x-python",
   "name": "python",
   "nbconvert_exporter": "python",
   "pygments_lexer": "ipython3",
   "version": "3.10.9"
  }
 },
 "nbformat": 4,
 "nbformat_minor": 5
}

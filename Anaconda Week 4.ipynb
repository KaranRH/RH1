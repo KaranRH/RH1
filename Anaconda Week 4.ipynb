{
 "cells": [
  {
   "cell_type": "code",
   "execution_count": 1,
   "id": "af143d23",
   "metadata": {},
   "outputs": [
    {
     "name": "stdout",
     "output_type": "stream",
     "text": [
      "Enter first name: Karan\n",
      "Enter last name: Rhuggernaath\n",
      "Enter age in years: 28\n",
      "Name: Karan Rhuggernaath, Age: 336 months\n"
     ]
    },
    {
     "ename": "KeyboardInterrupt",
     "evalue": "Interrupted by user",
     "output_type": "error",
     "traceback": [
      "\u001b[0;31m---------------------------------------------------------------------------\u001b[0m",
      "\u001b[0;31mKeyboardInterrupt\u001b[0m                         Traceback (most recent call last)",
      "Cell \u001b[0;32mIn[1], line 12\u001b[0m\n\u001b[1;32m      9\u001b[0m     \u001b[38;5;28;01mreturn\u001b[39;00m months\n\u001b[1;32m     11\u001b[0m \u001b[38;5;28;01mfor\u001b[39;00m _ \u001b[38;5;129;01min\u001b[39;00m \u001b[38;5;28mrange\u001b[39m(\u001b[38;5;241m10\u001b[39m):\n\u001b[0;32m---> 12\u001b[0m     name \u001b[38;5;241m=\u001b[39m \u001b[43mget_name\u001b[49m\u001b[43m(\u001b[49m\u001b[43m)\u001b[49m\n\u001b[1;32m     13\u001b[0m     age_in_months \u001b[38;5;241m=\u001b[39m calculate_age_in_months()\n\u001b[1;32m     14\u001b[0m     \u001b[38;5;28mprint\u001b[39m(\u001b[38;5;124mf\u001b[39m\u001b[38;5;124m\"\u001b[39m\u001b[38;5;124mName: \u001b[39m\u001b[38;5;132;01m{\u001b[39;00mname\u001b[38;5;132;01m}\u001b[39;00m\u001b[38;5;124m, Age: \u001b[39m\u001b[38;5;132;01m{\u001b[39;00mage_in_months\u001b[38;5;132;01m}\u001b[39;00m\u001b[38;5;124m months\u001b[39m\u001b[38;5;124m\"\u001b[39m)\n",
      "Cell \u001b[0;32mIn[1], line 2\u001b[0m, in \u001b[0;36mget_name\u001b[0;34m()\u001b[0m\n\u001b[1;32m      1\u001b[0m \u001b[38;5;28;01mdef\u001b[39;00m \u001b[38;5;21mget_name\u001b[39m():\n\u001b[0;32m----> 2\u001b[0m     first_name \u001b[38;5;241m=\u001b[39m \u001b[38;5;28;43minput\u001b[39;49m\u001b[43m(\u001b[49m\u001b[38;5;124;43m\"\u001b[39;49m\u001b[38;5;124;43mEnter first name: \u001b[39;49m\u001b[38;5;124;43m\"\u001b[39;49m\u001b[43m)\u001b[49m\u001b[38;5;241m.\u001b[39mcapitalize()\n\u001b[1;32m      3\u001b[0m     last_name \u001b[38;5;241m=\u001b[39m \u001b[38;5;28minput\u001b[39m(\u001b[38;5;124m\"\u001b[39m\u001b[38;5;124mEnter last name: \u001b[39m\u001b[38;5;124m\"\u001b[39m)\u001b[38;5;241m.\u001b[39mcapitalize()\n\u001b[1;32m      4\u001b[0m     \u001b[38;5;28;01mreturn\u001b[39;00m \u001b[38;5;124mf\u001b[39m\u001b[38;5;124m\"\u001b[39m\u001b[38;5;132;01m{\u001b[39;00mfirst_name\u001b[38;5;132;01m}\u001b[39;00m\u001b[38;5;124m \u001b[39m\u001b[38;5;132;01m{\u001b[39;00mlast_name\u001b[38;5;132;01m}\u001b[39;00m\u001b[38;5;124m\"\u001b[39m\n",
      "File \u001b[0;32m~/anaconda3/lib/python3.10/site-packages/ipykernel/kernelbase.py:1175\u001b[0m, in \u001b[0;36mKernel.raw_input\u001b[0;34m(self, prompt)\u001b[0m\n\u001b[1;32m   1171\u001b[0m \u001b[38;5;28;01mif\u001b[39;00m \u001b[38;5;129;01mnot\u001b[39;00m \u001b[38;5;28mself\u001b[39m\u001b[38;5;241m.\u001b[39m_allow_stdin:\n\u001b[1;32m   1172\u001b[0m     \u001b[38;5;28;01mraise\u001b[39;00m StdinNotImplementedError(\n\u001b[1;32m   1173\u001b[0m         \u001b[38;5;124m\"\u001b[39m\u001b[38;5;124mraw_input was called, but this frontend does not support input requests.\u001b[39m\u001b[38;5;124m\"\u001b[39m\n\u001b[1;32m   1174\u001b[0m     )\n\u001b[0;32m-> 1175\u001b[0m \u001b[38;5;28;01mreturn\u001b[39;00m \u001b[38;5;28;43mself\u001b[39;49m\u001b[38;5;241;43m.\u001b[39;49m\u001b[43m_input_request\u001b[49m\u001b[43m(\u001b[49m\n\u001b[1;32m   1176\u001b[0m \u001b[43m    \u001b[49m\u001b[38;5;28;43mstr\u001b[39;49m\u001b[43m(\u001b[49m\u001b[43mprompt\u001b[49m\u001b[43m)\u001b[49m\u001b[43m,\u001b[49m\n\u001b[1;32m   1177\u001b[0m \u001b[43m    \u001b[49m\u001b[38;5;28;43mself\u001b[39;49m\u001b[38;5;241;43m.\u001b[39;49m\u001b[43m_parent_ident\u001b[49m\u001b[43m[\u001b[49m\u001b[38;5;124;43m\"\u001b[39;49m\u001b[38;5;124;43mshell\u001b[39;49m\u001b[38;5;124;43m\"\u001b[39;49m\u001b[43m]\u001b[49m\u001b[43m,\u001b[49m\n\u001b[1;32m   1178\u001b[0m \u001b[43m    \u001b[49m\u001b[38;5;28;43mself\u001b[39;49m\u001b[38;5;241;43m.\u001b[39;49m\u001b[43mget_parent\u001b[49m\u001b[43m(\u001b[49m\u001b[38;5;124;43m\"\u001b[39;49m\u001b[38;5;124;43mshell\u001b[39;49m\u001b[38;5;124;43m\"\u001b[39;49m\u001b[43m)\u001b[49m\u001b[43m,\u001b[49m\n\u001b[1;32m   1179\u001b[0m \u001b[43m    \u001b[49m\u001b[43mpassword\u001b[49m\u001b[38;5;241;43m=\u001b[39;49m\u001b[38;5;28;43;01mFalse\u001b[39;49;00m\u001b[43m,\u001b[49m\n\u001b[1;32m   1180\u001b[0m \u001b[43m\u001b[49m\u001b[43m)\u001b[49m\n",
      "File \u001b[0;32m~/anaconda3/lib/python3.10/site-packages/ipykernel/kernelbase.py:1217\u001b[0m, in \u001b[0;36mKernel._input_request\u001b[0;34m(self, prompt, ident, parent, password)\u001b[0m\n\u001b[1;32m   1214\u001b[0m             \u001b[38;5;28;01mbreak\u001b[39;00m\n\u001b[1;32m   1215\u001b[0m \u001b[38;5;28;01mexcept\u001b[39;00m \u001b[38;5;167;01mKeyboardInterrupt\u001b[39;00m:\n\u001b[1;32m   1216\u001b[0m     \u001b[38;5;66;03m# re-raise KeyboardInterrupt, to truncate traceback\u001b[39;00m\n\u001b[0;32m-> 1217\u001b[0m     \u001b[38;5;28;01mraise\u001b[39;00m \u001b[38;5;167;01mKeyboardInterrupt\u001b[39;00m(\u001b[38;5;124m\"\u001b[39m\u001b[38;5;124mInterrupted by user\u001b[39m\u001b[38;5;124m\"\u001b[39m) \u001b[38;5;28;01mfrom\u001b[39;00m \u001b[38;5;28mNone\u001b[39m\n\u001b[1;32m   1218\u001b[0m \u001b[38;5;28;01mexcept\u001b[39;00m \u001b[38;5;167;01mException\u001b[39;00m:\n\u001b[1;32m   1219\u001b[0m     \u001b[38;5;28mself\u001b[39m\u001b[38;5;241m.\u001b[39mlog\u001b[38;5;241m.\u001b[39mwarning(\u001b[38;5;124m\"\u001b[39m\u001b[38;5;124mInvalid Message:\u001b[39m\u001b[38;5;124m\"\u001b[39m, exc_info\u001b[38;5;241m=\u001b[39m\u001b[38;5;28;01mTrue\u001b[39;00m)\n",
      "\u001b[0;31mKeyboardInterrupt\u001b[0m: Interrupted by user"
     ]
    }
   ],
   "source": [
    "def get_name():\n",
    "    first_name = input(\"Enter first name: \").capitalize()\n",
    "    last_name = input(\"Enter last name: \").capitalize()\n",
    "    return f\"{first_name} {last_name}\"\n",
    "\n",
    "def calculate_age_in_months():\n",
    "    age = int(input(\"Enter age in years: \"))\n",
    "    months = age * 12\n",
    "    return months\n",
    "\n",
    "for _ in range(10):\n",
    "    name = get_name()\n",
    "    age_in_months = calculate_age_in_months()\n",
    "    print(f\"Name: {name}, Age: {age_in_months} months\")\n"
   ]
  },
  {
   "cell_type": "code",
   "execution_count": null,
   "id": "7a21a924",
   "metadata": {},
   "outputs": [],
   "source": [
    "import pandas as pd"
   ]
  },
  {
   "cell_type": "code",
   "execution_count": 5,
   "id": "1bda7659",
   "metadata": {},
   "outputs": [],
   "source": [
    "import pandas as pd"
   ]
  },
  {
   "cell_type": "code",
   "execution_count": 6,
   "id": "c9ae3629",
   "metadata": {},
   "outputs": [
    {
     "name": "stdout",
     "output_type": "stream",
     "text": [
      "0    1\n",
      "1    7\n",
      "2    2\n",
      "dtype: int64\n"
     ]
    }
   ],
   "source": [
    "a = [1,7, 2]\n",
    "myvar = pd.Series(a)\n",
    "print(myvar)"
   ]
  },
  {
   "cell_type": "code",
   "execution_count": 7,
   "id": "efec457f",
   "metadata": {},
   "outputs": [
    {
     "name": "stdout",
     "output_type": "stream",
     "text": [
      "1\n"
     ]
    }
   ],
   "source": [
    "print(myvar[0])"
   ]
  },
  {
   "cell_type": "code",
   "execution_count": 9,
   "id": "790458e3",
   "metadata": {},
   "outputs": [
    {
     "name": "stdout",
     "output_type": "stream",
     "text": [
      "x    1\n",
      "y    7\n",
      "z    2\n",
      "dtype: int64\n"
     ]
    }
   ],
   "source": [
    "a = [1, 7, 2]\n",
    "\n",
    "myvar = pd.Series(a, index = [\"x\", \"y\", \"z\"])\n",
    "\n",
    "print(myvar)"
   ]
  },
  {
   "cell_type": "code",
   "execution_count": 10,
   "id": "797a4124",
   "metadata": {},
   "outputs": [
    {
     "name": "stdout",
     "output_type": "stream",
     "text": [
      "7\n"
     ]
    }
   ],
   "source": [
    "print(myvar[\"y\"])"
   ]
  },
  {
   "cell_type": "code",
   "execution_count": 11,
   "id": "7d9dc8ab",
   "metadata": {},
   "outputs": [
    {
     "name": "stdout",
     "output_type": "stream",
     "text": [
      "day1    420\n",
      "day2    380\n",
      "day3    390\n",
      "dtype: int64\n"
     ]
    }
   ],
   "source": [
    "calories = {\"day1\": 420, \"day2\": 380, \"day3\": 390}\n",
    "myvar = pd.Series(calories)\n",
    "print(myvar)"
   ]
  },
  {
   "cell_type": "code",
   "execution_count": 12,
   "id": "cffd0db7",
   "metadata": {},
   "outputs": [
    {
     "name": "stdout",
     "output_type": "stream",
     "text": [
      "    cars  passings\n",
      "0    BMW         3\n",
      "1  Volvo         7\n",
      "2   Ford         2\n"
     ]
    }
   ],
   "source": [
    "mydataset = {\n",
    "    'cars': [\"BMW\", \"Volvo\", \"Ford\"],\n",
    "    'passings': [3, 7, 2]\n",
    "}\n",
    "\n",
    "myvar = pd.DataFrame(mydataset)\n",
    "\n",
    "print(myvar)"
   ]
  },
  {
   "cell_type": "code",
   "execution_count": 13,
   "id": "497bbcdd",
   "metadata": {},
   "outputs": [
    {
     "name": "stdout",
     "output_type": "stream",
     "text": [
      "cars        BMW\n",
      "passings      3\n",
      "Name: 0, dtype: object\n"
     ]
    }
   ],
   "source": [
    "print(myvar.loc[0])"
   ]
  },
  {
   "cell_type": "code",
   "execution_count": 14,
   "id": "db0f4b7a",
   "metadata": {},
   "outputs": [
    {
     "name": "stdout",
     "output_type": "stream",
     "text": [
      "    cars  passings\n",
      "0    BMW         3\n",
      "1  Volvo         7\n"
     ]
    }
   ],
   "source": [
    "print(myvar.loc[[0, 1]])"
   ]
  },
  {
   "cell_type": "code",
   "execution_count": 15,
   "id": "edd59d45",
   "metadata": {},
   "outputs": [
    {
     "ename": "AttributeError",
     "evalue": "module 'pandas' has no attribute 'Dataframe'",
     "output_type": "error",
     "traceback": [
      "\u001b[0;31m---------------------------------------------------------------------------\u001b[0m",
      "\u001b[0;31mAttributeError\u001b[0m                            Traceback (most recent call last)",
      "Cell \u001b[0;32mIn[15], line 6\u001b[0m\n\u001b[1;32m      1\u001b[0m data \u001b[38;5;241m=\u001b[39m {\n\u001b[1;32m      2\u001b[0m     \u001b[38;5;124m\"\u001b[39m\u001b[38;5;124mcalories\u001b[39m\u001b[38;5;124m\"\u001b[39m: [\u001b[38;5;241m420\u001b[39m, \u001b[38;5;241m380\u001b[39m, \u001b[38;5;241m390\u001b[39m],\n\u001b[1;32m      3\u001b[0m     \u001b[38;5;124m\"\u001b[39m\u001b[38;5;124mduration\u001b[39m\u001b[38;5;124m\"\u001b[39m: [\u001b[38;5;241m50\u001b[39m, \u001b[38;5;241m40\u001b[39m, \u001b[38;5;241m45\u001b[39m]\n\u001b[1;32m      4\u001b[0m }\n\u001b[0;32m----> 6\u001b[0m df \u001b[38;5;241m=\u001b[39m \u001b[43mpd\u001b[49m\u001b[38;5;241;43m.\u001b[39;49m\u001b[43mDataframe\u001b[49m(data, index \u001b[38;5;241m=\u001b[39m [\u001b[38;5;124m\"\u001b[39m\u001b[38;5;124mday1\u001b[39m\u001b[38;5;124m\"\u001b[39m, \u001b[38;5;124m\"\u001b[39m\u001b[38;5;124mday2\u001b[39m\u001b[38;5;124m\"\u001b[39m, \u001b[38;5;124m\"\u001b[39m\u001b[38;5;124mday3\u001b[39m\u001b[38;5;124m\"\u001b[39m])\n\u001b[1;32m      8\u001b[0m \u001b[38;5;28mprint\u001b[39m(df)\n",
      "File \u001b[0;32m~/anaconda3/lib/python3.10/site-packages/pandas/__init__.py:264\u001b[0m, in \u001b[0;36m__getattr__\u001b[0;34m(name)\u001b[0m\n\u001b[1;32m    260\u001b[0m     \u001b[38;5;28;01mfrom\u001b[39;00m \u001b[38;5;21;01mpandas\u001b[39;00m\u001b[38;5;21;01m.\u001b[39;00m\u001b[38;5;21;01mcore\u001b[39;00m\u001b[38;5;21;01m.\u001b[39;00m\u001b[38;5;21;01marrays\u001b[39;00m\u001b[38;5;21;01m.\u001b[39;00m\u001b[38;5;21;01msparse\u001b[39;00m \u001b[38;5;28;01mimport\u001b[39;00m SparseArray \u001b[38;5;28;01mas\u001b[39;00m _SparseArray\n\u001b[1;32m    262\u001b[0m     \u001b[38;5;28;01mreturn\u001b[39;00m _SparseArray\n\u001b[0;32m--> 264\u001b[0m \u001b[38;5;28;01mraise\u001b[39;00m \u001b[38;5;167;01mAttributeError\u001b[39;00m(\u001b[38;5;124mf\u001b[39m\u001b[38;5;124m\"\u001b[39m\u001b[38;5;124mmodule \u001b[39m\u001b[38;5;124m'\u001b[39m\u001b[38;5;124mpandas\u001b[39m\u001b[38;5;124m'\u001b[39m\u001b[38;5;124m has no attribute \u001b[39m\u001b[38;5;124m'\u001b[39m\u001b[38;5;132;01m{\u001b[39;00mname\u001b[38;5;132;01m}\u001b[39;00m\u001b[38;5;124m'\u001b[39m\u001b[38;5;124m\"\u001b[39m)\n",
      "\u001b[0;31mAttributeError\u001b[0m: module 'pandas' has no attribute 'Dataframe'"
     ]
    }
   ],
   "source": [
    "data = {\n",
    "    \"calories\": [420, 380, 390],\n",
    "    \"duration\": [50, 40, 45]\n",
    "}\n",
    "\n",
    "df = pd.DataFrame(data, index = [\"day1\", \"day2\", \"day3\"])\n",
    "\n",
    "print(df)"
   ]
  },
  {
   "cell_type": "code",
   "execution_count": 16,
   "id": "e0b8e5c7",
   "metadata": {},
   "outputs": [
    {
     "ename": "AttributeError",
     "evalue": "module 'pandas' has no attribute 'Dataframe'",
     "output_type": "error",
     "traceback": [
      "\u001b[0;31m---------------------------------------------------------------------------\u001b[0m",
      "\u001b[0;31mAttributeError\u001b[0m                            Traceback (most recent call last)",
      "Cell \u001b[0;32mIn[16], line 6\u001b[0m\n\u001b[1;32m      1\u001b[0m data \u001b[38;5;241m=\u001b[39m {\n\u001b[1;32m      2\u001b[0m     \u001b[38;5;124m\"\u001b[39m\u001b[38;5;124mcalories\u001b[39m\u001b[38;5;124m\"\u001b[39m: [\u001b[38;5;241m420\u001b[39m, \u001b[38;5;241m380\u001b[39m, \u001b[38;5;241m390\u001b[39m],\n\u001b[1;32m      3\u001b[0m     \u001b[38;5;124m\"\u001b[39m\u001b[38;5;124mduration\u001b[39m\u001b[38;5;124m\"\u001b[39m: [\u001b[38;5;241m50\u001b[39m, \u001b[38;5;241m40\u001b[39m, \u001b[38;5;241m45\u001b[39m]\n\u001b[1;32m      4\u001b[0m }\n\u001b[0;32m----> 6\u001b[0m df \u001b[38;5;241m=\u001b[39m \u001b[43mpd\u001b[49m\u001b[38;5;241;43m.\u001b[39;49m\u001b[43mDataframe\u001b[49m(data, index \u001b[38;5;241m=\u001b[39m [\u001b[38;5;124m\"\u001b[39m\u001b[38;5;124mday1\u001b[39m\u001b[38;5;124m\"\u001b[39m, \u001b[38;5;124m\"\u001b[39m\u001b[38;5;124mday2\u001b[39m\u001b[38;5;124m\"\u001b[39m, \u001b[38;5;124m\"\u001b[39m\u001b[38;5;124mday3\u001b[39m\u001b[38;5;124m\"\u001b[39m])\n\u001b[1;32m      8\u001b[0m \u001b[38;5;28mprint\u001b[39m(df)\n",
      "File \u001b[0;32m~/anaconda3/lib/python3.10/site-packages/pandas/__init__.py:264\u001b[0m, in \u001b[0;36m__getattr__\u001b[0;34m(name)\u001b[0m\n\u001b[1;32m    260\u001b[0m     \u001b[38;5;28;01mfrom\u001b[39;00m \u001b[38;5;21;01mpandas\u001b[39;00m\u001b[38;5;21;01m.\u001b[39;00m\u001b[38;5;21;01mcore\u001b[39;00m\u001b[38;5;21;01m.\u001b[39;00m\u001b[38;5;21;01marrays\u001b[39;00m\u001b[38;5;21;01m.\u001b[39;00m\u001b[38;5;21;01msparse\u001b[39;00m \u001b[38;5;28;01mimport\u001b[39;00m SparseArray \u001b[38;5;28;01mas\u001b[39;00m _SparseArray\n\u001b[1;32m    262\u001b[0m     \u001b[38;5;28;01mreturn\u001b[39;00m _SparseArray\n\u001b[0;32m--> 264\u001b[0m \u001b[38;5;28;01mraise\u001b[39;00m \u001b[38;5;167;01mAttributeError\u001b[39;00m(\u001b[38;5;124mf\u001b[39m\u001b[38;5;124m\"\u001b[39m\u001b[38;5;124mmodule \u001b[39m\u001b[38;5;124m'\u001b[39m\u001b[38;5;124mpandas\u001b[39m\u001b[38;5;124m'\u001b[39m\u001b[38;5;124m has no attribute \u001b[39m\u001b[38;5;124m'\u001b[39m\u001b[38;5;132;01m{\u001b[39;00mname\u001b[38;5;132;01m}\u001b[39;00m\u001b[38;5;124m'\u001b[39m\u001b[38;5;124m\"\u001b[39m)\n",
      "\u001b[0;31mAttributeError\u001b[0m: module 'pandas' has no attribute 'Dataframe'"
     ]
    }
   ],
   "source": [
    "data = {\n",
    "    \"calories\": [420, 380, 390],\n",
    "    \"duration\": [50, 40, 45]\n",
    "}\n",
    "\n",
    "df = pd.Dataframe(data, index = [\"day1\", \"day2\", \"day3\"])\n",
    "\n",
    "print(df)"
   ]
  },
  {
   "cell_type": "code",
   "execution_count": 17,
   "id": "f823f764",
   "metadata": {},
   "outputs": [
    {
     "ename": "NameError",
     "evalue": "name 'df' is not defined",
     "output_type": "error",
     "traceback": [
      "\u001b[0;31m---------------------------------------------------------------------------\u001b[0m",
      "\u001b[0;31mNameError\u001b[0m                                 Traceback (most recent call last)",
      "Cell \u001b[0;32mIn[17], line 1\u001b[0m\n\u001b[0;32m----> 1\u001b[0m \u001b[38;5;28mprint\u001b[39m(\u001b[43mdf\u001b[49m\u001b[38;5;241m.\u001b[39mloc[\u001b[38;5;124m\"\u001b[39m\u001b[38;5;124mday2\u001b[39m\u001b[38;5;124m\"\u001b[39m])\n",
      "\u001b[0;31mNameError\u001b[0m: name 'df' is not defined"
     ]
    }
   ],
   "source": [
    "print(df.loc[\"day2\"])"
   ]
  },
  {
   "cell_type": "code",
   "execution_count": 18,
   "id": "ed50a910",
   "metadata": {},
   "outputs": [
    {
     "name": "stdout",
     "output_type": "stream",
     "text": [
      "      calories  duration\n",
      "day1       420        50\n",
      "day2       380        40\n",
      "day3       390        45\n"
     ]
    }
   ],
   "source": [
    "data = {\n",
    "    \"calories\": [420, 380, 390],\n",
    "    \"duration\": [50, 40, 45]\n",
    "}\n",
    "\n",
    "df = pd.DataFrame(data, index = [\"day1\", \"day2\", \"day3\"])\n",
    "\n",
    "print(df)"
   ]
  },
  {
   "cell_type": "code",
   "execution_count": 19,
   "id": "27ac6c48",
   "metadata": {},
   "outputs": [
    {
     "name": "stdout",
     "output_type": "stream",
     "text": [
      "calories    380\n",
      "duration     40\n",
      "Name: day2, dtype: int64\n"
     ]
    }
   ],
   "source": [
    "print(df.loc[\"day2\"])"
   ]
  },
  {
   "cell_type": "code",
   "execution_count": 20,
   "id": "74341fd2",
   "metadata": {},
   "outputs": [
    {
     "name": "stdout",
     "output_type": "stream",
     "text": [
      "            Type  Days for shipping (real)  Days for shipment (scheduled)  \\\n",
      "0           CASH                         2                              4   \n",
      "1        PAYMENT                         3                              4   \n",
      "2        PAYMENT                         3                              4   \n",
      "3        PAYMENT                         3                              4   \n",
      "4           CASH                         5                              4   \n",
      "...          ...                       ...                            ...   \n",
      "180514  TRANSFER                         6                              4   \n",
      "180515     DEBIT                         2                              4   \n",
      "180516     DEBIT                         3                              4   \n",
      "180517   PAYMENT                         4                              4   \n",
      "180518      CASH                         1                              0   \n",
      "\n",
      "        Benefit per order  Sales per customer   Delivery Status  \\\n",
      "0               88.790001          239.979996  Advance shipping   \n",
      "1               91.180000          193.990005  Advance shipping   \n",
      "2               36.470001          107.889999  Advance shipping   \n",
      "3               68.250000          227.500000  Advance shipping   \n",
      "4                4.100000           40.980000     Late delivery   \n",
      "...                   ...                 ...               ...   \n",
      "180514        -107.959999          161.869995     Late delivery   \n",
      "180515        -126.559998          172.660004  Advance shipping   \n",
      "180516          91.250000          314.640015  Advance shipping   \n",
      "180517           1.530000           10.910000  Shipping on time   \n",
      "180518           9.790000           34.980000     Late delivery   \n",
      "\n",
      "        Late_delivery_risk  Category Id     Category Name Customer City  ...  \\\n",
      "0                        0           43  Camping & Hiking       Hickory  ...   \n",
      "1                        0           48      Water Sports       Chicago  ...   \n",
      "2                        0           18    Men's Footwear       Chicago  ...   \n",
      "3                        0           24   Women's Apparel       Chicago  ...   \n",
      "4                        1           40       Accessories   San Antonio  ...   \n",
      "...                    ...          ...               ...           ...  ...   \n",
      "180514                   1           76  Women's Clothing        Caguas  ...   \n",
      "180515                   0           76  Women's Clothing    Plainfield  ...   \n",
      "180516                   0           73    Sporting Goods        Caguas  ...   \n",
      "180517                   0           74              Toys        Berwyn  ...   \n",
      "180518                   1           75       Video Games         Miami  ...   \n",
      "\n",
      "       Order Zipcode Product Card Id Product Category Id  Product Description  \\\n",
      "0                NaN             957                  43                  NaN   \n",
      "1                NaN            1073                  48                  NaN   \n",
      "2                NaN             403                  18                  NaN   \n",
      "3                NaN             502                  24                  NaN   \n",
      "4                NaN             897                  40                  NaN   \n",
      "...              ...             ...                 ...                  ...   \n",
      "180514           NaN            1363                  76                  NaN   \n",
      "180515           NaN            1363                  76                  NaN   \n",
      "180516           NaN            1360                  73                  NaN   \n",
      "180517           NaN            1361                  74                  NaN   \n",
      "180518           NaN            1362                  75                  NaN   \n",
      "\n",
      "                                            Product Image  \\\n",
      "0       http://images.acmesports.sports/Diamondback+Wo...   \n",
      "1       http://images.acmesports.sports/Pelican+Sunstr...   \n",
      "2       http://images.acmesports.sports/Nike+Men%27s+C...   \n",
      "3       http://images.acmesports.sports/Nike+Men%27s+D...   \n",
      "4       http://images.acmesports.sports/Team+Golf+New+...   \n",
      "...                                                   ...   \n",
      "180514     http://images.acmesports.sports/Summer+dresses   \n",
      "180515     http://images.acmesports.sports/Summer+dresses   \n",
      "180516       http://images.acmesports.sports/Smart+watch    \n",
      "180517              http://images.acmesports.sports/Toys    \n",
      "180518  http://images.acmesports.sports/Fighting+video...   \n",
      "\n",
      "                                         Product Name Product Price  \\\n",
      "0       Diamondback Women's Serene Classic Comfort Bi    299.980011   \n",
      "1                         Pelican Sunstream 100 Kayak    199.990005   \n",
      "2             Nike Men's CJ Elite 2 TD Football Cleat    129.990005   \n",
      "3                Nike Men's Dri-FIT Victory Golf Polo     50.000000   \n",
      "4          Team Golf New England Patriots Putter Grip     24.990000   \n",
      "...                                               ...           ...   \n",
      "180514                                 Summer dresses    215.820007   \n",
      "180515                                 Summer dresses    215.820007   \n",
      "180516                                   Smart watch     327.750000   \n",
      "180517                                          Toys      11.540000   \n",
      "180518                           Fighting video games     39.750000   \n",
      "\n",
      "       Product Status shipping date (DateOrders)   Shipping Mode  \n",
      "0                   0           01/03/2015 00:00  Standard Class  \n",
      "1                   0           01/04/2015 00:21  Standard Class  \n",
      "2                   0           01/04/2015 00:21  Standard Class  \n",
      "3                   0           01/04/2015 00:21  Standard Class  \n",
      "4                   0           01/06/2015 01:03  Standard Class  \n",
      "...               ...                        ...             ...  \n",
      "180514              0           02/06/2018 22:14  Standard Class  \n",
      "180515              0           02/02/2018 22:35  Standard Class  \n",
      "180516              0           02/03/2018 22:56  Standard Class  \n",
      "180517              0           02/04/2018 23:17  Standard Class  \n",
      "180518              0           02/01/2018 11:38        Same Day  \n",
      "\n",
      "[180519 rows x 53 columns]\n"
     ]
    }
   ],
   "source": [
    "import pandas as pd\n",
    "df = pd.read_csv('Data_Set.csv')\n",
    "print(df)"
   ]
  },
  {
   "cell_type": "code",
   "execution_count": 21,
   "id": "41d29d95",
   "metadata": {},
   "outputs": [
    {
     "name": "stdout",
     "output_type": "stream",
     "text": [
      "      Type  Days for shipping (real)  Days for shipment (scheduled)  \\\n",
      "0     CASH                         2                              4   \n",
      "1  PAYMENT                         3                              4   \n",
      "2  PAYMENT                         3                              4   \n",
      "3  PAYMENT                         3                              4   \n",
      "4     CASH                         5                              4   \n",
      "\n",
      "   Benefit per order  Sales per customer   Delivery Status  \\\n",
      "0          88.790001          239.979996  Advance shipping   \n",
      "1          91.180000          193.990005  Advance shipping   \n",
      "2          36.470001          107.889999  Advance shipping   \n",
      "3          68.250000          227.500000  Advance shipping   \n",
      "4           4.100000           40.980000     Late delivery   \n",
      "\n",
      "   Late_delivery_risk  Category Id     Category Name Customer City  ...  \\\n",
      "0                   0           43  Camping & Hiking       Hickory  ...   \n",
      "1                   0           48      Water Sports       Chicago  ...   \n",
      "2                   0           18    Men's Footwear       Chicago  ...   \n",
      "3                   0           24   Women's Apparel       Chicago  ...   \n",
      "4                   1           40       Accessories   San Antonio  ...   \n",
      "\n",
      "  Order Zipcode Product Card Id Product Category Id  Product Description  \\\n",
      "0           NaN             957                  43                  NaN   \n",
      "1           NaN            1073                  48                  NaN   \n",
      "2           NaN             403                  18                  NaN   \n",
      "3           NaN             502                  24                  NaN   \n",
      "4           NaN             897                  40                  NaN   \n",
      "\n",
      "                                       Product Image  \\\n",
      "0  http://images.acmesports.sports/Diamondback+Wo...   \n",
      "1  http://images.acmesports.sports/Pelican+Sunstr...   \n",
      "2  http://images.acmesports.sports/Nike+Men%27s+C...   \n",
      "3  http://images.acmesports.sports/Nike+Men%27s+D...   \n",
      "4  http://images.acmesports.sports/Team+Golf+New+...   \n",
      "\n",
      "                                    Product Name Product Price Product Status  \\\n",
      "0  Diamondback Women's Serene Classic Comfort Bi    299.980011              0   \n",
      "1                    Pelican Sunstream 100 Kayak    199.990005              0   \n",
      "2        Nike Men's CJ Elite 2 TD Football Cleat    129.990005              0   \n",
      "3           Nike Men's Dri-FIT Victory Golf Polo     50.000000              0   \n",
      "4     Team Golf New England Patriots Putter Grip     24.990000              0   \n",
      "\n",
      "  shipping date (DateOrders)   Shipping Mode  \n",
      "0           01/03/2015 00:00  Standard Class  \n",
      "1           01/04/2015 00:21  Standard Class  \n",
      "2           01/04/2015 00:21  Standard Class  \n",
      "3           01/04/2015 00:21  Standard Class  \n",
      "4           01/06/2015 01:03  Standard Class  \n",
      "\n",
      "[5 rows x 53 columns]\n"
     ]
    }
   ],
   "source": [
    "print(df.head(5))"
   ]
  },
  {
   "cell_type": "code",
   "execution_count": 22,
   "id": "3709ac73",
   "metadata": {},
   "outputs": [
    {
     "name": "stdout",
     "output_type": "stream",
     "text": [
      "<class 'pandas.core.frame.DataFrame'>\n",
      "RangeIndex: 180519 entries, 0 to 180518\n",
      "Data columns (total 53 columns):\n",
      " #   Column                         Non-Null Count   Dtype  \n",
      "---  ------                         --------------   -----  \n",
      " 0   Type                           180519 non-null  object \n",
      " 1   Days for shipping (real)       180519 non-null  int64  \n",
      " 2   Days for shipment (scheduled)  180519 non-null  int64  \n",
      " 3   Benefit per order              180519 non-null  float64\n",
      " 4   Sales per customer             180519 non-null  float64\n",
      " 5   Delivery Status                180519 non-null  object \n",
      " 6   Late_delivery_risk             180519 non-null  int64  \n",
      " 7   Category Id                    180519 non-null  int64  \n",
      " 8   Category Name                  180519 non-null  object \n",
      " 9   Customer City                  180519 non-null  object \n",
      " 10  Customer Country               180519 non-null  object \n",
      " 11  Customer Email                 180519 non-null  object \n",
      " 12  Customer Fname                 180519 non-null  object \n",
      " 13  Customer Id                    180519 non-null  int64  \n",
      " 14  Customer Lname                 180511 non-null  object \n",
      " 15  Customer Password              180519 non-null  object \n",
      " 16  Customer Segment               180519 non-null  object \n",
      " 17  Customer State                 180519 non-null  object \n",
      " 18  Customer Street                180519 non-null  object \n",
      " 19  Customer Zipcode               180516 non-null  float64\n",
      " 20  Department Id                  180519 non-null  int64  \n",
      " 21  Department Name                180519 non-null  object \n",
      " 22  Latitude                       180519 non-null  float64\n",
      " 23  Longitude                      180519 non-null  float64\n",
      " 24  Market                         180519 non-null  object \n",
      " 25  Order City                     180519 non-null  object \n",
      " 26  Order Country                  180519 non-null  object \n",
      " 27  Order Customer Id              180519 non-null  int64  \n",
      " 28  order date (DateOrders)        180519 non-null  object \n",
      " 29  Order Id                       180519 non-null  int64  \n",
      " 30  Order Item Cardprod Id         180519 non-null  int64  \n",
      " 31  Order Item Discount            180519 non-null  float64\n",
      " 32  Order Item Discount Rate       180519 non-null  float64\n",
      " 33  Order Item Id                  180519 non-null  int64  \n",
      " 34  Order Item Product Price       180519 non-null  float64\n",
      " 35  Order Item Profit Ratio        180519 non-null  float64\n",
      " 36  Order Item Quantity            180519 non-null  int64  \n",
      " 37  Sales                          180519 non-null  float64\n",
      " 38  Order Item Total               180519 non-null  float64\n",
      " 39  Order Profit Per Order         180519 non-null  float64\n",
      " 40  Order Region                   180519 non-null  object \n",
      " 41  Order State                    180519 non-null  object \n",
      " 42  Order Status                   180519 non-null  object \n",
      " 43  Order Zipcode                  24840 non-null   float64\n",
      " 44  Product Card Id                180519 non-null  int64  \n",
      " 45  Product Category Id            180519 non-null  int64  \n",
      " 46  Product Description            0 non-null       float64\n",
      " 47  Product Image                  180519 non-null  object \n",
      " 48  Product Name                   180519 non-null  object \n",
      " 49  Product Price                  180519 non-null  float64\n",
      " 50  Product Status                 180519 non-null  int64  \n",
      " 51  shipping date (DateOrders)     180519 non-null  object \n",
      " 52  Shipping Mode                  180519 non-null  object \n",
      "dtypes: float64(15), int64(14), object(24)\n",
      "memory usage: 73.0+ MB\n",
      "None\n"
     ]
    }
   ],
   "source": [
    "print(df.info())"
   ]
  },
  {
   "cell_type": "code",
   "execution_count": 23,
   "id": "5dba7f80",
   "metadata": {},
   "outputs": [
    {
     "name": "stdout",
     "output_type": "stream",
     "text": [
      "<class 'pandas.core.frame.DataFrame'>\n",
      "RangeIndex: 180519 entries, 0 to 180518\n",
      "Data columns (total 52 columns):\n",
      " #   Column                         Non-Null Count   Dtype  \n",
      "---  ------                         --------------   -----  \n",
      " 0   Type                           180519 non-null  object \n",
      " 1   Days for shipping (real)       180519 non-null  int64  \n",
      " 2   Days for shipment (scheduled)  180519 non-null  int64  \n",
      " 3   Benefit per order              180519 non-null  float64\n",
      " 4   Sales per customer             180519 non-null  float64\n",
      " 5   Delivery Status                180519 non-null  object \n",
      " 6   Late_delivery_risk             180519 non-null  int64  \n",
      " 7   Category Id                    180519 non-null  int64  \n",
      " 8   Category Name                  180519 non-null  object \n",
      " 9   Customer City                  180519 non-null  object \n",
      " 10  Customer Country               180519 non-null  object \n",
      " 11  Customer Email                 180519 non-null  object \n",
      " 12  Customer Fname                 180519 non-null  object \n",
      " 13  Customer Id                    180519 non-null  int64  \n",
      " 14  Customer Lname                 180511 non-null  object \n",
      " 15  Customer Password              180519 non-null  object \n",
      " 16  Customer Segment               180519 non-null  object \n",
      " 17  Customer State                 180519 non-null  object \n",
      " 18  Customer Street                180519 non-null  object \n",
      " 19  Customer Zipcode               180516 non-null  float64\n",
      " 20  Department Id                  180519 non-null  int64  \n",
      " 21  Department Name                180519 non-null  object \n",
      " 22  Latitude                       180519 non-null  float64\n",
      " 23  Longitude                      180519 non-null  float64\n",
      " 24  Market                         180519 non-null  object \n",
      " 25  Order City                     180519 non-null  object \n",
      " 26  Order Country                  180519 non-null  object \n",
      " 27  Order Customer Id              180519 non-null  int64  \n",
      " 28  order date (DateOrders)        180519 non-null  object \n",
      " 29  Order Id                       180519 non-null  int64  \n",
      " 30  Order Item Cardprod Id         180519 non-null  int64  \n",
      " 31  Order Item Discount            180519 non-null  float64\n",
      " 32  Order Item Discount Rate       180519 non-null  float64\n",
      " 33  Order Item Id                  180519 non-null  int64  \n",
      " 34  Order Item Product Price       180519 non-null  float64\n",
      " 35  Order Item Profit Ratio        180519 non-null  float64\n",
      " 36  Order Item Quantity            180519 non-null  int64  \n",
      " 37  Sales                          180519 non-null  float64\n",
      " 38  Order Item Total               180519 non-null  float64\n",
      " 39  Order Profit Per Order         180519 non-null  float64\n",
      " 40  Order Region                   180519 non-null  object \n",
      " 41  Order State                    180519 non-null  object \n",
      " 42  Order Status                   180519 non-null  object \n",
      " 43  Order Zipcode                  24840 non-null   float64\n",
      " 44  Product Card Id                180519 non-null  int64  \n",
      " 45  Product Category Id            180519 non-null  int64  \n",
      " 46  Product Image                  180519 non-null  object \n",
      " 47  Product Name                   180519 non-null  object \n",
      " 48  Product Price                  180519 non-null  float64\n",
      " 49  Product Status                 180519 non-null  int64  \n",
      " 50  shipping date (DateOrders)     180519 non-null  object \n",
      " 51  Shipping Mode                  180519 non-null  object \n",
      "dtypes: float64(14), int64(14), object(24)\n",
      "memory usage: 71.6+ MB\n",
      "None\n"
     ]
    }
   ],
   "source": [
    "df.pop(\"Product Description\")\n",
    "print(df.info())"
   ]
  },
  {
   "cell_type": "code",
   "execution_count": 24,
   "id": "de2a0e92",
   "metadata": {},
   "outputs": [
    {
     "name": "stdout",
     "output_type": "stream",
     "text": [
      "<class 'pandas.core.frame.DataFrame'>\n",
      "Int64Index: 24840 entries, 78230 to 103069\n",
      "Data columns (total 52 columns):\n",
      " #   Column                         Non-Null Count  Dtype  \n",
      "---  ------                         --------------  -----  \n",
      " 0   Type                           24840 non-null  object \n",
      " 1   Days for shipping (real)       24840 non-null  int64  \n",
      " 2   Days for shipment (scheduled)  24840 non-null  int64  \n",
      " 3   Benefit per order              24840 non-null  float64\n",
      " 4   Sales per customer             24840 non-null  float64\n",
      " 5   Delivery Status                24840 non-null  object \n",
      " 6   Late_delivery_risk             24840 non-null  int64  \n",
      " 7   Category Id                    24840 non-null  int64  \n",
      " 8   Category Name                  24840 non-null  object \n",
      " 9   Customer City                  24840 non-null  object \n",
      " 10  Customer Country               24840 non-null  object \n",
      " 11  Customer Email                 24840 non-null  object \n",
      " 12  Customer Fname                 24840 non-null  object \n",
      " 13  Customer Id                    24840 non-null  int64  \n",
      " 14  Customer Lname                 24840 non-null  object \n",
      " 15  Customer Password              24840 non-null  object \n",
      " 16  Customer Segment               24840 non-null  object \n",
      " 17  Customer State                 24840 non-null  object \n",
      " 18  Customer Street                24840 non-null  object \n",
      " 19  Customer Zipcode               24840 non-null  float64\n",
      " 20  Department Id                  24840 non-null  int64  \n",
      " 21  Department Name                24840 non-null  object \n",
      " 22  Latitude                       24840 non-null  float64\n",
      " 23  Longitude                      24840 non-null  float64\n",
      " 24  Market                         24840 non-null  object \n",
      " 25  Order City                     24840 non-null  object \n",
      " 26  Order Country                  24840 non-null  object \n",
      " 27  Order Customer Id              24840 non-null  int64  \n",
      " 28  order date (DateOrders)        24840 non-null  object \n",
      " 29  Order Id                       24840 non-null  int64  \n",
      " 30  Order Item Cardprod Id         24840 non-null  int64  \n",
      " 31  Order Item Discount            24840 non-null  float64\n",
      " 32  Order Item Discount Rate       24840 non-null  float64\n",
      " 33  Order Item Id                  24840 non-null  int64  \n",
      " 34  Order Item Product Price       24840 non-null  float64\n",
      " 35  Order Item Profit Ratio        24840 non-null  float64\n",
      " 36  Order Item Quantity            24840 non-null  int64  \n",
      " 37  Sales                          24840 non-null  float64\n",
      " 38  Order Item Total               24840 non-null  float64\n",
      " 39  Order Profit Per Order         24840 non-null  float64\n",
      " 40  Order Region                   24840 non-null  object \n",
      " 41  Order State                    24840 non-null  object \n",
      " 42  Order Status                   24840 non-null  object \n",
      " 43  Order Zipcode                  24840 non-null  float64\n",
      " 44  Product Card Id                24840 non-null  int64  \n",
      " 45  Product Category Id            24840 non-null  int64  \n",
      " 46  Product Image                  24840 non-null  object \n",
      " 47  Product Name                   24840 non-null  object \n",
      " 48  Product Price                  24840 non-null  float64\n",
      " 49  Product Status                 24840 non-null  int64  \n",
      " 50  shipping date (DateOrders)     24840 non-null  object \n",
      " 51  Shipping Mode                  24840 non-null  object \n",
      "dtypes: float64(14), int64(14), object(24)\n",
      "memory usage: 10.0+ MB\n",
      "None\n"
     ]
    }
   ],
   "source": [
    "new_df = df.dropna()\n",
    "print(new_df.info())"
   ]
  },
  {
   "cell_type": "code",
   "execution_count": 25,
   "id": "75f47882",
   "metadata": {},
   "outputs": [
    {
     "name": "stdout",
     "output_type": "stream",
     "text": [
      "78230     42420.0\n",
      "78231     42420.0\n",
      "78232     42420.0\n",
      "78233     42420.0\n",
      "78234     42420.0\n",
      "           ...   \n",
      "103065    92627.0\n",
      "103066    92627.0\n",
      "103067    92627.0\n",
      "103068    92627.0\n",
      "103069    92627.0\n",
      "Name: Order Zipcode, Length: 24840, dtype: float64\n"
     ]
    }
   ],
   "source": [
    "print(new_df[\"Order Zipcode\"])"
   ]
  },
  {
   "cell_type": "code",
   "execution_count": 26,
   "id": "56a95c95",
   "metadata": {},
   "outputs": [
    {
     "name": "stdout",
     "output_type": "stream",
     "text": [
      "0        NaN\n",
      "1        NaN\n",
      "2        NaN\n",
      "3        NaN\n",
      "4        NaN\n",
      "          ..\n",
      "180514   NaN\n",
      "180515   NaN\n",
      "180516   NaN\n",
      "180517   NaN\n",
      "180518   NaN\n",
      "Name: Order Zipcode, Length: 180519, dtype: float64\n"
     ]
    }
   ],
   "source": [
    "print(df[\"Order Zipcode\"])"
   ]
  },
  {
   "cell_type": "code",
   "execution_count": 27,
   "id": "9c201c9c",
   "metadata": {},
   "outputs": [
    {
     "name": "stdout",
     "output_type": "stream",
     "text": [
      "<class 'pandas.core.frame.DataFrame'>\n",
      "RangeIndex: 180519 entries, 0 to 180518\n",
      "Data columns (total 52 columns):\n",
      " #   Column                         Non-Null Count   Dtype  \n",
      "---  ------                         --------------   -----  \n",
      " 0   Type                           180519 non-null  object \n",
      " 1   Days for shipping (real)       180519 non-null  int64  \n",
      " 2   Days for shipment (scheduled)  180519 non-null  int64  \n",
      " 3   Benefit per order              180519 non-null  float64\n",
      " 4   Sales per customer             180519 non-null  float64\n",
      " 5   Delivery Status                180519 non-null  object \n",
      " 6   Late_delivery_risk             180519 non-null  int64  \n",
      " 7   Category Id                    180519 non-null  int64  \n",
      " 8   Category Name                  180519 non-null  object \n",
      " 9   Customer City                  180519 non-null  object \n",
      " 10  Customer Country               180519 non-null  object \n",
      " 11  Customer Email                 180519 non-null  object \n",
      " 12  Customer Fname                 180519 non-null  object \n",
      " 13  Customer Id                    180519 non-null  int64  \n",
      " 14  Customer Lname                 180511 non-null  object \n",
      " 15  Customer Password              180519 non-null  object \n",
      " 16  Customer Segment               180519 non-null  object \n",
      " 17  Customer State                 180519 non-null  object \n",
      " 18  Customer Street                180519 non-null  object \n",
      " 19  Customer Zipcode               180516 non-null  float64\n",
      " 20  Department Id                  180519 non-null  int64  \n",
      " 21  Department Name                180519 non-null  object \n",
      " 22  Latitude                       180519 non-null  float64\n",
      " 23  Longitude                      180519 non-null  float64\n",
      " 24  Market                         180519 non-null  object \n",
      " 25  Order City                     180519 non-null  object \n",
      " 26  Order Country                  180519 non-null  object \n",
      " 27  Order Customer Id              180519 non-null  int64  \n",
      " 28  order date (DateOrders)        180519 non-null  object \n",
      " 29  Order Id                       180519 non-null  int64  \n",
      " 30  Order Item Cardprod Id         180519 non-null  int64  \n",
      " 31  Order Item Discount            180519 non-null  float64\n",
      " 32  Order Item Discount Rate       180519 non-null  float64\n",
      " 33  Order Item Id                  180519 non-null  int64  \n",
      " 34  Order Item Product Price       180519 non-null  float64\n",
      " 35  Order Item Profit Ratio        180519 non-null  float64\n",
      " 36  Order Item Quantity            180519 non-null  int64  \n",
      " 37  Sales                          180519 non-null  float64\n",
      " 38  Order Item Total               180519 non-null  float64\n",
      " 39  Order Profit Per Order         180519 non-null  float64\n",
      " 40  Order Region                   180519 non-null  object \n",
      " 41  Order State                    180519 non-null  object \n",
      " 42  Order Status                   180519 non-null  object \n",
      " 43  Order Zipcode                  180519 non-null  object \n",
      " 44  Product Card Id                180519 non-null  int64  \n",
      " 45  Product Category Id            180519 non-null  int64  \n",
      " 46  Product Image                  180519 non-null  object \n",
      " 47  Product Name                   180519 non-null  object \n",
      " 48  Product Price                  180519 non-null  float64\n",
      " 49  Product Status                 180519 non-null  int64  \n",
      " 50  shipping date (DateOrders)     180519 non-null  object \n",
      " 51  Shipping Mode                  180519 non-null  object \n",
      "dtypes: float64(13), int64(14), object(25)\n",
      "memory usage: 71.6+ MB\n",
      "None\n"
     ]
    }
   ],
   "source": [
    "df[\"Order Zipcode\"].fillna(\"empty\", inplace = True)\n",
    "print(df.info())"
   ]
  },
  {
   "cell_type": "code",
   "execution_count": 28,
   "id": "679ac94e",
   "metadata": {},
   "outputs": [
    {
     "name": "stdout",
     "output_type": "stream",
     "text": [
      "21.97498863859404\n"
     ]
    }
   ],
   "source": [
    "x = df[\"Benefit per order\"].mean()\n",
    "print(x)\n",
    "df[\"Benefit per order\"].fillna(x, inplace = True)"
   ]
  },
  {
   "cell_type": "code",
   "execution_count": 29,
   "id": "094e5a6e",
   "metadata": {},
   "outputs": [
    {
     "name": "stdout",
     "output_type": "stream",
     "text": [
      "0         01/03/2015 00:00\n",
      "1         01/04/2015 00:21\n",
      "2         01/04/2015 00:21\n",
      "3         01/04/2015 00:21\n",
      "4         01/06/2015 01:03\n",
      "                ...       \n",
      "180514    02/06/2018 22:14\n",
      "180515    02/02/2018 22:35\n",
      "180516    02/03/2018 22:56\n",
      "180517    02/04/2018 23:17\n",
      "180518    02/01/2018 11:38\n",
      "Name: shipping date (DateOrders), Length: 180519, dtype: object\n"
     ]
    }
   ],
   "source": [
    "print(df['shipping date (DateOrders)'])"
   ]
  },
  {
   "cell_type": "code",
   "execution_count": 30,
   "id": "82f4f225",
   "metadata": {},
   "outputs": [
    {
     "name": "stdout",
     "output_type": "stream",
     "text": [
      "      Unnamed: 0       Entity Code  Year  Cellular Subscription  \\\n",
      "0              0  Afghanistan  AFG  1980               0.000000   \n",
      "1              1  Afghanistan  AFG  1981               0.000000   \n",
      "2              2  Afghanistan  AFG  1982               0.000000   \n",
      "3              3  Afghanistan  AFG  1983               0.000000   \n",
      "4              4  Afghanistan  AFG  1984               0.000000   \n",
      "...          ...          ...  ...   ...                    ...   \n",
      "8862        8862     Zimbabwe  ZWE  2016              91.793457   \n",
      "8863        8863     Zimbabwe  ZWE  2017              98.985077   \n",
      "8864        8864     Zimbabwe  ZWE  2018              89.404869   \n",
      "8865        8865     Zimbabwe  ZWE  2019              90.102287   \n",
      "8866        8866     Zimbabwe  ZWE  2020              88.755806   \n",
      "\n",
      "      Internet Users(%)  No. of Internet Users  Broadband Subscription  \n",
      "0              0.000000                      0                0.000000  \n",
      "1              0.000000                      0                0.000000  \n",
      "2              0.000000                      0                0.000000  \n",
      "3              0.000000                      0                0.000000  \n",
      "4              0.000000                      0                0.000000  \n",
      "...                 ...                    ...                     ...  \n",
      "8862          23.119989                3341464                1.217633  \n",
      "8863          24.400000                3599269                1.315694  \n",
      "8864          25.000000                3763048                1.406322  \n",
      "8865          25.100000                3854006                1.395818  \n",
      "8866          29.299999                4591211                1.368916  \n",
      "\n",
      "[8867 rows x 8 columns]\n"
     ]
    }
   ],
   "source": [
    "import pandas as pd\n",
    "dataframe = pd.read_csv('Final.csv')\n",
    "print(dataframe)"
   ]
  },
  {
   "cell_type": "code",
   "execution_count": null,
   "id": "e38cf1c8",
   "metadata": {},
   "outputs": [],
   "source": []
  }
 ],
 "metadata": {
  "kernelspec": {
   "display_name": "Python 3 (ipykernel)",
   "language": "python",
   "name": "python3"
  },
  "language_info": {
   "codemirror_mode": {
    "name": "ipython",
    "version": 3
   },
   "file_extension": ".py",
   "mimetype": "text/x-python",
   "name": "python",
   "nbconvert_exporter": "python",
   "pygments_lexer": "ipython3",
   "version": "3.10.9"
  }
 },
 "nbformat": 4,
 "nbformat_minor": 5
}
